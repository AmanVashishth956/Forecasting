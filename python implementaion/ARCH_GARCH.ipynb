{
  "nbformat": 4,
  "nbformat_minor": 0,
  "metadata": {
    "colab": {
      "provenance": []
    },
    "kernelspec": {
      "name": "python3",
      "display_name": "Python 3"
    },
    "language_info": {
      "name": "python"
    }
  },
  "cells": [
    {
      "cell_type": "code",
      "source": [
        "!pip install arch"
      ],
      "metadata": {
        "id": "F4qIdmqTrW0Z",
        "colab": {
          "base_uri": "https://localhost:8080/"
        },
        "outputId": "b9b6c758-dc30-46f0-a4f4-ab3f961bb8e0"
      },
      "execution_count": null,
      "outputs": [
        {
          "output_type": "stream",
          "name": "stdout",
          "text": [
            "Looking in indexes: https://pypi.org/simple, https://us-python.pkg.dev/colab-wheels/public/simple/\n",
            "Collecting arch\n",
            "  Downloading arch-5.3.1-cp39-cp39-manylinux_2_17_x86_64.manylinux2014_x86_64.whl (907 kB)\n",
            "\u001b[2K     \u001b[90m━━━━━━━━━━━━━━━━━━━━━━━━━━━━━━━━━━━━━━━\u001b[0m \u001b[32m908.0/908.0 KB\u001b[0m \u001b[31m9.1 MB/s\u001b[0m eta \u001b[36m0:00:00\u001b[0m\n",
            "\u001b[?25hRequirement already satisfied: numpy>=1.17 in /usr/local/lib/python3.9/dist-packages (from arch) (1.22.4)\n",
            "Collecting property-cached>=1.6.4\n",
            "  Downloading property_cached-1.6.4-py2.py3-none-any.whl (7.8 kB)\n",
            "Requirement already satisfied: pandas>=1.0 in /usr/local/lib/python3.9/dist-packages (from arch) (1.4.4)\n",
            "Requirement already satisfied: statsmodels>=0.11 in /usr/local/lib/python3.9/dist-packages (from arch) (0.13.5)\n",
            "Requirement already satisfied: scipy>=1.3 in /usr/local/lib/python3.9/dist-packages (from arch) (1.10.1)\n",
            "Requirement already satisfied: pytz>=2020.1 in /usr/local/lib/python3.9/dist-packages (from pandas>=1.0->arch) (2022.7.1)\n",
            "Requirement already satisfied: python-dateutil>=2.8.1 in /usr/local/lib/python3.9/dist-packages (from pandas>=1.0->arch) (2.8.2)\n",
            "Requirement already satisfied: packaging>=21.3 in /usr/local/lib/python3.9/dist-packages (from statsmodels>=0.11->arch) (23.0)\n",
            "Requirement already satisfied: patsy>=0.5.2 in /usr/local/lib/python3.9/dist-packages (from statsmodels>=0.11->arch) (0.5.3)\n",
            "Requirement already satisfied: six in /usr/local/lib/python3.9/dist-packages (from patsy>=0.5.2->statsmodels>=0.11->arch) (1.16.0)\n",
            "Installing collected packages: property-cached, arch\n",
            "Successfully installed arch-5.3.1 property-cached-1.6.4\n"
          ]
        }
      ]
    },
    {
      "cell_type": "code",
      "execution_count": null,
      "metadata": {
        "id": "fZJcJ_GGm1sf"
      },
      "outputs": [],
      "source": [
        "import pandas as pd\n",
        "from statsmodels.tsa.stattools import adfuller\n",
        "from arch.unitroot import PhillipsPerron\n",
        "from arch import arch_model"
      ]
    },
    {
      "cell_type": "code",
      "source": [
        "df=pd.read_csv(\"euro.csv\") #loading the file "
      ],
      "metadata": {
        "id": "IMCSFnIBm6_9"
      },
      "execution_count": null,
      "outputs": []
    },
    {
      "cell_type": "code",
      "source": [
        "df['Date'] = pd.to_datetime(df['Date'], format='%d/%m/%Y') #converting date column \"str\" to \"datetime\" object\n",
        "df.set_index('Date', inplace=True)"
      ],
      "metadata": {
        "id": "EDshCDa0n890"
      },
      "execution_count": null,
      "outputs": []
    },
    {
      "cell_type": "code",
      "source": [
        "df.head(5) #printing top-5 data on the table"
      ],
      "metadata": {
        "colab": {
          "base_uri": "https://localhost:8080/",
          "height": 237
        },
        "id": "Sq3OgRYtnA7J",
        "outputId": "d3bf3f40-e941-43f3-d223-3d6d20dfa11c"
      },
      "execution_count": null,
      "outputs": [
        {
          "output_type": "execute_result",
          "data": {
            "text/plain": [
              "               EURO\n",
              "Date               \n",
              "2016-04-04  75.3713\n",
              "2016-04-05  75.5240\n",
              "2016-04-06  75.6290\n",
              "2016-04-07  75.8952\n",
              "2016-04-11  75.7538"
            ],
            "text/html": [
              "\n",
              "  <div id=\"df-71272dc9-3ae0-4ec1-a113-b004cbaf766a\">\n",
              "    <div class=\"colab-df-container\">\n",
              "      <div>\n",
              "<style scoped>\n",
              "    .dataframe tbody tr th:only-of-type {\n",
              "        vertical-align: middle;\n",
              "    }\n",
              "\n",
              "    .dataframe tbody tr th {\n",
              "        vertical-align: top;\n",
              "    }\n",
              "\n",
              "    .dataframe thead th {\n",
              "        text-align: right;\n",
              "    }\n",
              "</style>\n",
              "<table border=\"1\" class=\"dataframe\">\n",
              "  <thead>\n",
              "    <tr style=\"text-align: right;\">\n",
              "      <th></th>\n",
              "      <th>EURO</th>\n",
              "    </tr>\n",
              "    <tr>\n",
              "      <th>Date</th>\n",
              "      <th></th>\n",
              "    </tr>\n",
              "  </thead>\n",
              "  <tbody>\n",
              "    <tr>\n",
              "      <th>2016-04-04</th>\n",
              "      <td>75.3713</td>\n",
              "    </tr>\n",
              "    <tr>\n",
              "      <th>2016-04-05</th>\n",
              "      <td>75.5240</td>\n",
              "    </tr>\n",
              "    <tr>\n",
              "      <th>2016-04-06</th>\n",
              "      <td>75.6290</td>\n",
              "    </tr>\n",
              "    <tr>\n",
              "      <th>2016-04-07</th>\n",
              "      <td>75.8952</td>\n",
              "    </tr>\n",
              "    <tr>\n",
              "      <th>2016-04-11</th>\n",
              "      <td>75.7538</td>\n",
              "    </tr>\n",
              "  </tbody>\n",
              "</table>\n",
              "</div>\n",
              "      <button class=\"colab-df-convert\" onclick=\"convertToInteractive('df-71272dc9-3ae0-4ec1-a113-b004cbaf766a')\"\n",
              "              title=\"Convert this dataframe to an interactive table.\"\n",
              "              style=\"display:none;\">\n",
              "        \n",
              "  <svg xmlns=\"http://www.w3.org/2000/svg\" height=\"24px\"viewBox=\"0 0 24 24\"\n",
              "       width=\"24px\">\n",
              "    <path d=\"M0 0h24v24H0V0z\" fill=\"none\"/>\n",
              "    <path d=\"M18.56 5.44l.94 2.06.94-2.06 2.06-.94-2.06-.94-.94-2.06-.94 2.06-2.06.94zm-11 1L8.5 8.5l.94-2.06 2.06-.94-2.06-.94L8.5 2.5l-.94 2.06-2.06.94zm10 10l.94 2.06.94-2.06 2.06-.94-2.06-.94-.94-2.06-.94 2.06-2.06.94z\"/><path d=\"M17.41 7.96l-1.37-1.37c-.4-.4-.92-.59-1.43-.59-.52 0-1.04.2-1.43.59L10.3 9.45l-7.72 7.72c-.78.78-.78 2.05 0 2.83L4 21.41c.39.39.9.59 1.41.59.51 0 1.02-.2 1.41-.59l7.78-7.78 2.81-2.81c.8-.78.8-2.07 0-2.86zM5.41 20L4 18.59l7.72-7.72 1.47 1.35L5.41 20z\"/>\n",
              "  </svg>\n",
              "      </button>\n",
              "      \n",
              "  <style>\n",
              "    .colab-df-container {\n",
              "      display:flex;\n",
              "      flex-wrap:wrap;\n",
              "      gap: 12px;\n",
              "    }\n",
              "\n",
              "    .colab-df-convert {\n",
              "      background-color: #E8F0FE;\n",
              "      border: none;\n",
              "      border-radius: 50%;\n",
              "      cursor: pointer;\n",
              "      display: none;\n",
              "      fill: #1967D2;\n",
              "      height: 32px;\n",
              "      padding: 0 0 0 0;\n",
              "      width: 32px;\n",
              "    }\n",
              "\n",
              "    .colab-df-convert:hover {\n",
              "      background-color: #E2EBFA;\n",
              "      box-shadow: 0px 1px 2px rgba(60, 64, 67, 0.3), 0px 1px 3px 1px rgba(60, 64, 67, 0.15);\n",
              "      fill: #174EA6;\n",
              "    }\n",
              "\n",
              "    [theme=dark] .colab-df-convert {\n",
              "      background-color: #3B4455;\n",
              "      fill: #D2E3FC;\n",
              "    }\n",
              "\n",
              "    [theme=dark] .colab-df-convert:hover {\n",
              "      background-color: #434B5C;\n",
              "      box-shadow: 0px 1px 3px 1px rgba(0, 0, 0, 0.15);\n",
              "      filter: drop-shadow(0px 1px 2px rgba(0, 0, 0, 0.3));\n",
              "      fill: #FFFFFF;\n",
              "    }\n",
              "  </style>\n",
              "\n",
              "      <script>\n",
              "        const buttonEl =\n",
              "          document.querySelector('#df-71272dc9-3ae0-4ec1-a113-b004cbaf766a button.colab-df-convert');\n",
              "        buttonEl.style.display =\n",
              "          google.colab.kernel.accessAllowed ? 'block' : 'none';\n",
              "\n",
              "        async function convertToInteractive(key) {\n",
              "          const element = document.querySelector('#df-71272dc9-3ae0-4ec1-a113-b004cbaf766a');\n",
              "          const dataTable =\n",
              "            await google.colab.kernel.invokeFunction('convertToInteractive',\n",
              "                                                     [key], {});\n",
              "          if (!dataTable) return;\n",
              "\n",
              "          const docLinkHtml = 'Like what you see? Visit the ' +\n",
              "            '<a target=\"_blank\" href=https://colab.research.google.com/notebooks/data_table.ipynb>data table notebook</a>'\n",
              "            + ' to learn more about interactive tables.';\n",
              "          element.innerHTML = '';\n",
              "          dataTable['output_type'] = 'display_data';\n",
              "          await google.colab.output.renderOutput(dataTable, element);\n",
              "          const docLink = document.createElement('div');\n",
              "          docLink.innerHTML = docLinkHtml;\n",
              "          element.appendChild(docLink);\n",
              "        }\n",
              "      </script>\n",
              "    </div>\n",
              "  </div>\n",
              "  "
            ]
          },
          "metadata": {},
          "execution_count": 100
        }
      ]
    },
    {
      "cell_type": "code",
      "source": [
        "df.info()"
      ],
      "metadata": {
        "colab": {
          "base_uri": "https://localhost:8080/"
        },
        "id": "XLUqLJRNnCcA",
        "outputId": "e03158b2-a2b3-4623-f0f6-753a45d0d302"
      },
      "execution_count": null,
      "outputs": [
        {
          "output_type": "stream",
          "name": "stdout",
          "text": [
            "<class 'pandas.core.frame.DataFrame'>\n",
            "DatetimeIndex: 788 entries, 2016-04-04 to 2023-03-31\n",
            "Data columns (total 1 columns):\n",
            " #   Column  Non-Null Count  Dtype  \n",
            "---  ------  --------------  -----  \n",
            " 0   EURO    788 non-null    float64\n",
            "dtypes: float64(1)\n",
            "memory usage: 12.3 KB\n"
          ]
        }
      ]
    },
    {
      "cell_type": "code",
      "source": [
        "df.describe() # prinitng basic Data statistics "
      ],
      "metadata": {
        "colab": {
          "base_uri": "https://localhost:8080/",
          "height": 300
        },
        "id": "O2IhIKXonElL",
        "outputId": "a1cbfec6-51a0-4f8d-95bd-d42b7bf70ebf"
      },
      "execution_count": null,
      "outputs": [
        {
          "output_type": "execute_result",
          "data": {
            "text/plain": [
              "             EURO\n",
              "count  788.000000\n",
              "mean    77.765828\n",
              "std      5.069230\n",
              "min     68.250300\n",
              "25%     74.216875\n",
              "50%     76.521850\n",
              "75%     80.691400\n",
              "max     90.255500"
            ],
            "text/html": [
              "\n",
              "  <div id=\"df-89f7e594-8262-4895-99f8-d9f8a6fa65a3\">\n",
              "    <div class=\"colab-df-container\">\n",
              "      <div>\n",
              "<style scoped>\n",
              "    .dataframe tbody tr th:only-of-type {\n",
              "        vertical-align: middle;\n",
              "    }\n",
              "\n",
              "    .dataframe tbody tr th {\n",
              "        vertical-align: top;\n",
              "    }\n",
              "\n",
              "    .dataframe thead th {\n",
              "        text-align: right;\n",
              "    }\n",
              "</style>\n",
              "<table border=\"1\" class=\"dataframe\">\n",
              "  <thead>\n",
              "    <tr style=\"text-align: right;\">\n",
              "      <th></th>\n",
              "      <th>EURO</th>\n",
              "    </tr>\n",
              "  </thead>\n",
              "  <tbody>\n",
              "    <tr>\n",
              "      <th>count</th>\n",
              "      <td>788.000000</td>\n",
              "    </tr>\n",
              "    <tr>\n",
              "      <th>mean</th>\n",
              "      <td>77.765828</td>\n",
              "    </tr>\n",
              "    <tr>\n",
              "      <th>std</th>\n",
              "      <td>5.069230</td>\n",
              "    </tr>\n",
              "    <tr>\n",
              "      <th>min</th>\n",
              "      <td>68.250300</td>\n",
              "    </tr>\n",
              "    <tr>\n",
              "      <th>25%</th>\n",
              "      <td>74.216875</td>\n",
              "    </tr>\n",
              "    <tr>\n",
              "      <th>50%</th>\n",
              "      <td>76.521850</td>\n",
              "    </tr>\n",
              "    <tr>\n",
              "      <th>75%</th>\n",
              "      <td>80.691400</td>\n",
              "    </tr>\n",
              "    <tr>\n",
              "      <th>max</th>\n",
              "      <td>90.255500</td>\n",
              "    </tr>\n",
              "  </tbody>\n",
              "</table>\n",
              "</div>\n",
              "      <button class=\"colab-df-convert\" onclick=\"convertToInteractive('df-89f7e594-8262-4895-99f8-d9f8a6fa65a3')\"\n",
              "              title=\"Convert this dataframe to an interactive table.\"\n",
              "              style=\"display:none;\">\n",
              "        \n",
              "  <svg xmlns=\"http://www.w3.org/2000/svg\" height=\"24px\"viewBox=\"0 0 24 24\"\n",
              "       width=\"24px\">\n",
              "    <path d=\"M0 0h24v24H0V0z\" fill=\"none\"/>\n",
              "    <path d=\"M18.56 5.44l.94 2.06.94-2.06 2.06-.94-2.06-.94-.94-2.06-.94 2.06-2.06.94zm-11 1L8.5 8.5l.94-2.06 2.06-.94-2.06-.94L8.5 2.5l-.94 2.06-2.06.94zm10 10l.94 2.06.94-2.06 2.06-.94-2.06-.94-.94-2.06-.94 2.06-2.06.94z\"/><path d=\"M17.41 7.96l-1.37-1.37c-.4-.4-.92-.59-1.43-.59-.52 0-1.04.2-1.43.59L10.3 9.45l-7.72 7.72c-.78.78-.78 2.05 0 2.83L4 21.41c.39.39.9.59 1.41.59.51 0 1.02-.2 1.41-.59l7.78-7.78 2.81-2.81c.8-.78.8-2.07 0-2.86zM5.41 20L4 18.59l7.72-7.72 1.47 1.35L5.41 20z\"/>\n",
              "  </svg>\n",
              "      </button>\n",
              "      \n",
              "  <style>\n",
              "    .colab-df-container {\n",
              "      display:flex;\n",
              "      flex-wrap:wrap;\n",
              "      gap: 12px;\n",
              "    }\n",
              "\n",
              "    .colab-df-convert {\n",
              "      background-color: #E8F0FE;\n",
              "      border: none;\n",
              "      border-radius: 50%;\n",
              "      cursor: pointer;\n",
              "      display: none;\n",
              "      fill: #1967D2;\n",
              "      height: 32px;\n",
              "      padding: 0 0 0 0;\n",
              "      width: 32px;\n",
              "    }\n",
              "\n",
              "    .colab-df-convert:hover {\n",
              "      background-color: #E2EBFA;\n",
              "      box-shadow: 0px 1px 2px rgba(60, 64, 67, 0.3), 0px 1px 3px 1px rgba(60, 64, 67, 0.15);\n",
              "      fill: #174EA6;\n",
              "    }\n",
              "\n",
              "    [theme=dark] .colab-df-convert {\n",
              "      background-color: #3B4455;\n",
              "      fill: #D2E3FC;\n",
              "    }\n",
              "\n",
              "    [theme=dark] .colab-df-convert:hover {\n",
              "      background-color: #434B5C;\n",
              "      box-shadow: 0px 1px 3px 1px rgba(0, 0, 0, 0.15);\n",
              "      filter: drop-shadow(0px 1px 2px rgba(0, 0, 0, 0.3));\n",
              "      fill: #FFFFFF;\n",
              "    }\n",
              "  </style>\n",
              "\n",
              "      <script>\n",
              "        const buttonEl =\n",
              "          document.querySelector('#df-89f7e594-8262-4895-99f8-d9f8a6fa65a3 button.colab-df-convert');\n",
              "        buttonEl.style.display =\n",
              "          google.colab.kernel.accessAllowed ? 'block' : 'none';\n",
              "\n",
              "        async function convertToInteractive(key) {\n",
              "          const element = document.querySelector('#df-89f7e594-8262-4895-99f8-d9f8a6fa65a3');\n",
              "          const dataTable =\n",
              "            await google.colab.kernel.invokeFunction('convertToInteractive',\n",
              "                                                     [key], {});\n",
              "          if (!dataTable) return;\n",
              "\n",
              "          const docLinkHtml = 'Like what you see? Visit the ' +\n",
              "            '<a target=\"_blank\" href=https://colab.research.google.com/notebooks/data_table.ipynb>data table notebook</a>'\n",
              "            + ' to learn more about interactive tables.';\n",
              "          element.innerHTML = '';\n",
              "          dataTable['output_type'] = 'display_data';\n",
              "          await google.colab.output.renderOutput(dataTable, element);\n",
              "          const docLink = document.createElement('div');\n",
              "          docLink.innerHTML = docLinkHtml;\n",
              "          element.appendChild(docLink);\n",
              "        }\n",
              "      </script>\n",
              "    </div>\n",
              "  </div>\n",
              "  "
            ]
          },
          "metadata": {},
          "execution_count": 102
        }
      ]
    },
    {
      "cell_type": "code",
      "source": [
        "df.plot()"
      ],
      "metadata": {
        "colab": {
          "base_uri": "https://localhost:8080/",
          "height": 439
        },
        "id": "mJFgJSJmoReD",
        "outputId": "5d8e12f0-fda0-4180-e67d-3bb992045a57"
      },
      "execution_count": null,
      "outputs": [
        {
          "output_type": "execute_result",
          "data": {
            "text/plain": [
              "<Axes: xlabel='Date'>"
            ]
          },
          "metadata": {},
          "execution_count": 103
        },
        {
          "output_type": "display_data",
          "data": {
            "text/plain": [
              "<Figure size 640x480 with 1 Axes>"
            ],
            "image/png": "[encoded data removed]"
          },
          "metadata": {}
        }
      ]
    },
    {
      "cell_type": "markdown",
      "source": [
        "### Filtering data for range April-2016 till April-2018"
      ],
      "metadata": {
        "id": "ktm9-effsIFP"
      }
    },
    {
      "cell_type": "code",
      "source": [
        "mmr1= df.loc['2022-1-1':'2023-1-1'] #filtering data for 2022-1-1 till 2023-1-1"
      ],
      "metadata": {
        "id": "T7WjrmfRoh2L"
      },
      "execution_count": null,
      "outputs": []
    },
    {
      "cell_type": "code",
      "source": [
        "mmr1.plot()"
      ],
      "metadata": {
        "colab": {
          "base_uri": "https://localhost:8080/",
          "height": 450
        },
        "id": "gtmzIXkWpzcf",
        "outputId": "52f9ec5f-36b4-43ea-b25b-f9cdd3efc842"
      },
      "execution_count": null,
      "outputs": [
        {
          "output_type": "execute_result",
          "data": {
            "text/plain": [
              "<Axes: xlabel='Date'>"
            ]
          },
          "metadata": {},
          "execution_count": 105
        },
        {
          "output_type": "display_data",
          "data": {
            "text/plain": [
              "<Figure size 640x480 with 1 Axes>"
            ],
            "image/png": "[encoded data removed]"
          },
          "metadata": {}
        }
      ]
    },
    {
      "cell_type": "markdown",
      "source": [
        "## Statistical test"
      ],
      "metadata": {
        "id": "L8UQCWq6qAPw"
      }
    },
    {
      "cell_type": "markdown",
      "source": [
        "### 1. Augmented Dickey-Fuller test"
      ],
      "metadata": {
        "id": "iBrYuLQuqnAA"
      }
    },
    {
      "cell_type": "code",
      "source": [
        "result = adfuller(mmr1) #augmented Dickey-Fuller test\n",
        "print('ADF Statistic: %f' % result[0])\n",
        "print('p-value: %f' % result[1])\n",
        "print('Critical Values:')\n",
        "for key, value in result[4].items():\n",
        " print('\\t%s: %.3f' % (key, value))"
      ],
      "metadata": {
        "colab": {
          "base_uri": "https://localhost:8080/"
        },
        "id": "2im2_JZPp7kc",
        "outputId": "4094db3c-b89a-464b-a6b7-f94d966e373c"
      },
      "execution_count": null,
      "outputs": [
        {
          "output_type": "stream",
          "name": "stdout",
          "text": [
            "ADF Statistic: -0.070607\n",
            "p-value: 0.952289\n",
            "Critical Values:\n",
            "\t1%: -3.468\n",
            "\t5%: -2.878\n",
            "\t10%: -2.576\n"
          ]
        }
      ]
    },
    {
      "cell_type": "markdown",
      "source": [
        "### 2. Phillips Perron test"
      ],
      "metadata": {
        "id": "tWVGySCVrljJ"
      }
    },
    {
      "cell_type": "code",
      "source": [
        "PhillipsPerron(mmr1)"
      ],
      "metadata": {
        "colab": {
          "base_uri": "https://localhost:8080/",
          "height": 220
        },
        "id": "3YCxP5KbqCJv",
        "outputId": "7db2aca6-3644-404d-c484-bd54d660e813"
      },
      "execution_count": null,
      "outputs": [
        {
          "output_type": "execute_result",
          "data": {
            "text/plain": [
              "<class 'arch.unitroot.unitroot.PhillipsPerron'>\n",
              "\"\"\"\n",
              "     Phillips-Perron Test (Z-tau)    \n",
              "=====================================\n",
              "Test Statistic                  0.083\n",
              "P-value                         0.965\n",
              "Lags                               14\n",
              "-------------------------------------\n",
              "\n",
              "Trend: Constant\n",
              "Critical Values: -3.47 (1%), -2.88 (5%), -2.58 (10%)\n",
              "Null Hypothesis: The process contains a unit root.\n",
              "Alternative Hypothesis: The process is weakly stationary.\n",
              "\"\"\""
            ],
            "text/html": [
              "<table class=\"simpletable\">\n",
              "<caption>Phillips-Perron Test (Z-tau)</caption>\n",
              "<tr>\n",
              "  <td>Test Statistic</td>     <td>0.083</td>\n",
              "</tr>\n",
              "<tr>\n",
              "  <td>P-value</td>            <td>0.965</td>\n",
              "</tr>\n",
              "<tr>\n",
              "  <td>Lags</td>                  <td>14</td>\n",
              "</tr>\n",
              "</table><br/><br/>Trend: Constant<br/>Critical Values: -3.47 (1%), -2.88 (5%), -2.58 (10%)<br/>Null Hypothesis: The process contains a unit root.<br/>Alternative Hypothesis: The process is weakly stationary."
            ]
          },
          "metadata": {},
          "execution_count": 107
        }
      ]
    },
    {
      "cell_type": "markdown",
      "source": [
        "Since ADF test statistic is negative and p-value is higher we cannot reject the null of unit root and PP test is rehecting the null hypothesis, hence data is non-stationary\n",
        "\n",
        "time series is not stationary and will require differencing to make it stationary, at least a difference order of 1."
      ],
      "metadata": {
        "id": "Uv_8Y9got-d9"
      }
    },
    {
      "cell_type": "markdown",
      "source": [
        "### First Difference of mmr1"
      ],
      "metadata": {
        "id": "8yxTMbpasR90"
      }
    },
    {
      "cell_type": "code",
      "source": [
        "dmmr1 = mmr1.diff()"
      ],
      "metadata": {
        "id": "MtzDdI-Qrgn-"
      },
      "execution_count": null,
      "outputs": []
    },
    {
      "cell_type": "code",
      "source": [
        "dmmr1.iloc[0]=mmr1.iloc[0]"
      ],
      "metadata": {
        "id": "-8TGLZxmsmtG"
      },
      "execution_count": null,
      "outputs": []
    },
    {
      "cell_type": "code",
      "source": [
        "result = adfuller(dmmr1)\n",
        "print('ADF Statistic: %f' % result[0])\n",
        "print('p-value: %f' % result[1])\n",
        "print('Critical Values:')\n",
        "for key, value in result[4].items():\n",
        " print('\\t%s: %.3f' % (key, value))"
      ],
      "metadata": {
        "colab": {
          "base_uri": "https://localhost:8080/"
        },
        "id": "Q6ynGO6zsYcz",
        "outputId": "136b2c80-c1d0-43cc-fe56-0ab591f78664"
      },
      "execution_count": null,
      "outputs": [
        {
          "output_type": "stream",
          "name": "stdout",
          "text": [
            "ADF Statistic: -4.422414\n",
            "p-value: 0.000271\n",
            "Critical Values:\n",
            "\t1%: -3.470\n",
            "\t5%: -2.879\n",
            "\t10%: -2.576\n"
          ]
        }
      ]
    },
    {
      "cell_type": "code",
      "source": [
        "PhillipsPerron(dmmr1)"
      ],
      "metadata": {
        "colab": {
          "base_uri": "https://localhost:8080/",
          "height": 220
        },
        "id": "wfxRcw8gsf11",
        "outputId": "17799619-6fea-459a-9c5d-dc08c6c18823"
      },
      "execution_count": null,
      "outputs": [
        {
          "output_type": "execute_result",
          "data": {
            "text/plain": [
              "<class 'arch.unitroot.unitroot.PhillipsPerron'>\n",
              "\"\"\"\n",
              "     Phillips-Perron Test (Z-tau)    \n",
              "=====================================\n",
              "Test Statistic               -191.279\n",
              "P-value                         0.000\n",
              "Lags                               14\n",
              "-------------------------------------\n",
              "\n",
              "Trend: Constant\n",
              "Critical Values: -3.47 (1%), -2.88 (5%), -2.58 (10%)\n",
              "Null Hypothesis: The process contains a unit root.\n",
              "Alternative Hypothesis: The process is weakly stationary.\n",
              "\"\"\""
            ],
            "text/html": [
              "<table class=\"simpletable\">\n",
              "<caption>Phillips-Perron Test (Z-tau)</caption>\n",
              "<tr>\n",
              "  <td>Test Statistic</td>  <td>-191.279</td>\n",
              "</tr>\n",
              "<tr>\n",
              "  <td>P-value</td>            <td>0.000</td>\n",
              "</tr>\n",
              "<tr>\n",
              "  <td>Lags</td>                  <td>14</td>\n",
              "</tr>\n",
              "</table><br/><br/>Trend: Constant<br/>Critical Values: -3.47 (1%), -2.88 (5%), -2.58 (10%)<br/>Null Hypothesis: The process contains a unit root.<br/>Alternative Hypothesis: The process is weakly stationary."
            ]
          },
          "metadata": {},
          "execution_count": 111
        }
      ]
    },
    {
      "cell_type": "markdown",
      "source": [
        "### After taking first diffrenec the data is stationary"
      ],
      "metadata": {
        "id": "enNolVv4x1QG"
      }
    },
    {
      "cell_type": "code",
      "source": [
        "from statsmodels.graphics.tsaplots import plot_acf\n",
        "from matplotlib import pyplot"
      ],
      "metadata": {
        "id": "hsGLKMslswR6"
      },
      "execution_count": null,
      "outputs": []
    },
    {
      "cell_type": "markdown",
      "source": [
        "### Plotting Auto-correlation function"
      ],
      "metadata": {
        "id": "96Nk5rVW1HuQ"
      }
    },
    {
      "cell_type": "code",
      "source": [
        "plot_acf(mmr1,lags=50) #plotting autocorrelation at First Difference \n",
        "pyplot.show()"
      ],
      "metadata": {
        "colab": {
          "base_uri": "https://localhost:8080/",
          "height": 452
        },
        "id": "CHszT6va1Kcs",
        "outputId": "69185b21-bacb-4fe1-a95d-abe4869a5668"
      },
      "execution_count": null,
      "outputs": [
        {
          "output_type": "display_data",
          "data": {
            "text/plain": [
              "<Figure size 640x480 with 1 Axes>"
            ],
            "image/png": "[encoded data removed]"
          },
          "metadata": {}
        }
      ]
    },
    {
      "cell_type": "markdown",
      "source": [
        "We are getting positive auto-correlation at 30th lagsignificant for the first 10 lags.\n",
        "\n",
        "A good starting point for the AR parameter of the model may be 10"
      ],
      "metadata": {
        "id": "hFEL8YhB5MKJ"
      }
    },
    {
      "cell_type": "code",
      "source": [
        "plot_acf(dmmr1,lags=50) #plotting autocorelation of first difference\n",
        "pyplot.show()"
      ],
      "metadata": {
        "colab": {
          "base_uri": "https://localhost:8080/",
          "height": 452
        },
        "id": "c27ESW6738ri",
        "outputId": "03d55eb3-014c-4910-80be-98c460869dfc"
      },
      "execution_count": null,
      "outputs": [
        {
          "output_type": "display_data",
          "data": {
            "text/plain": [
              "<Figure size 640x480 with 1 Axes>"
            ],
            "image/png": "[encoded data removed]"
          },
          "metadata": {}
        }
      ]
    },
    {
      "cell_type": "markdown",
      "source": [
        "### Plotting Partial Auto-Correlation function"
      ],
      "metadata": {
        "id": "DSeQ4XjD2jrQ"
      }
    },
    {
      "cell_type": "code",
      "source": [
        "from statsmodels.graphics.tsaplots import plot_pacf"
      ],
      "metadata": {
        "id": "uSqsGWxP1MUV"
      },
      "execution_count": null,
      "outputs": []
    },
    {
      "cell_type": "code",
      "source": [
        "plot_pacf(mmr1) #partial Autocorrelation of actual series\n",
        "pyplot.show()"
      ],
      "metadata": {
        "colab": {
          "base_uri": "https://localhost:8080/",
          "height": 507
        },
        "id": "eb6RM9v-2nr-",
        "outputId": "fd5ab057-dd15-460c-8494-e474ffc41448"
      },
      "execution_count": null,
      "outputs": [
        {
          "output_type": "stream",
          "name": "stderr",
          "text": [
            "/usr/local/lib/python3.9/dist-packages/statsmodels/graphics/tsaplots.py:348: FutureWarning: The default method 'yw' can produce PACF values outside of the [-1,1] interval. After 0.13, the default will change tounadjusted Yule-Walker ('ywm'). You can use this method now by setting method='ywm'.\n",
            "  warnings.warn(\n"
          ]
        },
        {
          "output_type": "display_data",
          "data": {
            "text/plain": [
              "<Figure size 640x480 with 1 Axes>"
            ],
            "image/png": "[encoded data removed]"
          },
          "metadata": {}
        }
      ]
    },
    {
      "cell_type": "code",
      "source": [
        "plot_pacf(dmmr1) #Partial Auto-Correlation of First Difference\n",
        "pyplot.show()"
      ],
      "metadata": {
        "colab": {
          "base_uri": "https://localhost:8080/",
          "height": 452
        },
        "id": "f0Wwtd9i4DSy",
        "outputId": "d2183062-7f46-4b8b-a487-6773663539a5"
      },
      "execution_count": null,
      "outputs": [
        {
          "output_type": "display_data",
          "data": {
            "text/plain": [
              "<Figure size 640x480 with 1 Axes>"
            ],
            "image/png": "[encoded data removed]"
          },
          "metadata": {}
        }
      ]
    },
    {
      "cell_type": "markdown",
      "source": [
        "Since ACF plot shows that Auto-correlation is dropping immediately after first lag and we can use ARIM "
      ],
      "metadata": {
        "id": "3jyt0hEb3NLC"
      }
    },
    {
      "cell_type": "markdown",
      "source": [
        "# ARCH Models"
      ],
      "metadata": {
        "id": "QBpwkUZv4Ijx"
      }
    },
    {
      "cell_type": "code",
      "source": [
        "from statsmodels.tsa.arima.model import ARIMA #loading ARIMA model in python"
      ],
      "metadata": {
        "id": "-6w1Ix9b4HtQ"
      },
      "execution_count": null,
      "outputs": []
    },
    {
      "cell_type": "code",
      "source": [
        "model = arch_model(dmmr1, mean='Zero', vol='ARCH', p=10)\n",
        "model_fit = model.fit() # model fitting \n",
        "# summary of fit model\n",
        "print(model_fit.summary())\n",
        "# line plot of residuals\n",
        "residuals = pd.DataFrame(model_fit.resid)\n",
        "residuals.plot()\n",
        "pyplot.show()"
      ],
      "metadata": {
        "colab": {
          "base_uri": "https://localhost:8080/",
          "height": 1000
        },
        "id": "pbBVSUma2rHI",
        "outputId": "297ddc40-00aa-4a7c-adaf-dda7fdc96ea5"
      },
      "execution_count": null,
      "outputs": [
        {
          "output_type": "stream",
          "name": "stdout",
          "text": [
            "Iteration:      1,   Func. Count:     13,   Neg. LLF: 978.8489908531242\n",
            "Iteration:      2,   Func. Count:     26,   Neg. LLF: 19362.680313696295\n",
            "Iteration:      3,   Func. Count:     39,   Neg. LLF: 15837.030530720842\n",
            "Iteration:      4,   Func. Count:     52,   Neg. LLF: 3545.6860535540764\n",
            "Iteration:      5,   Func. Count:     65,   Neg. LLF: 19362.864635978334\n",
            "Iteration:      6,   Func. Count:     78,   Neg. LLF: 19322.132427675333\n",
            "Iteration:      7,   Func. Count:     91,   Neg. LLF: 12375.85408320345\n",
            "Iteration:      8,   Func. Count:    104,   Neg. LLF: 19567.490825647365\n",
            "Iteration:      9,   Func. Count:    117,   Neg. LLF: 19362.866049820586\n",
            "Iteration:     10,   Func. Count:    130,   Neg. LLF: 19362.866049820586\n",
            "Iteration:     11,   Func. Count:    143,   Neg. LLF: 25365130.032917235\n",
            "Iteration:     12,   Func. Count:    156,   Neg. LLF: 49193.58459300518\n",
            "Iteration:     13,   Func. Count:    169,   Neg. LLF: 29207.798390253796\n",
            "Iteration:     14,   Func. Count:    182,   Neg. LLF: 33276.43295978456\n",
            "Iteration:     15,   Func. Count:    195,   Neg. LLF: 19362.72731349728\n",
            "Iteration:     16,   Func. Count:    208,   Neg. LLF: 22401.92138287497\n",
            "Iteration:     17,   Func. Count:    221,   Neg. LLF: 1679.4638956968429\n",
            "Iteration:     18,   Func. Count:    234,   Neg. LLF: 23845.0244033205\n",
            "Iteration:     19,   Func. Count:    247,   Neg. LLF: 19362.86604980851\n",
            "Iteration:     20,   Func. Count:    260,   Neg. LLF: 25365895.286430564\n",
            "Iteration:     21,   Func. Count:    273,   Neg. LLF: 152317.40528260972\n",
            "Iteration:     22,   Func. Count:    286,   Neg. LLF: 698.2324676348237\n",
            "Iteration:     23,   Func. Count:    299,   Neg. LLF: 62138.53147628657\n",
            "Iteration:     24,   Func. Count:    312,   Neg. LLF: 40939.615598765144\n",
            "Iteration:     25,   Func. Count:    325,   Neg. LLF: 35084.54241472625\n",
            "Iteration:     26,   Func. Count:    338,   Neg. LLF: 27340.438812478846\n",
            "Iteration:     27,   Func. Count:    351,   Neg. LLF: 28076.120081041685\n",
            "Iteration:     28,   Func. Count:    364,   Neg. LLF: 813.4257241519952\n",
            "Iteration:     29,   Func. Count:    377,   Neg. LLF: 161.67021287380942\n",
            "Iteration:     30,   Func. Count:    390,   Neg. LLF: 141.09663326174086\n",
            "Iteration:     31,   Func. Count:    401,   Neg. LLF: 141.09645407741414\n",
            "Optimization terminated successfully    (Exit mode 0)\n",
            "            Current function value: 141.09663326174086\n",
            "            Iterations: 35\n",
            "            Function evaluations: 401\n",
            "            Gradient evaluations: 31\n",
            "                        Zero Mean - ARCH Model Results                        \n",
            "==============================================================================\n",
            "Dep. Variable:                   EURO   R-squared:                       0.000\n",
            "Mean Model:                 Zero Mean   Adj. R-squared:                  0.006\n",
            "Vol Model:                       ARCH   Log-Likelihood:               -141.097\n",
            "Distribution:                  Normal   AIC:                           304.193\n",
            "Method:            Maximum Likelihood   BIC:                           339.069\n",
            "                                        No. Observations:                  176\n",
            "Date:                Sun, Apr 02 2023   Df Residuals:                      176\n",
            "Time:                        06:43:22   Df Model:                            0\n",
            "                               Volatility Model                              \n",
            "=============================================================================\n",
            "                 coef    std err          t      P>|t|       95.0% Conf. Int.\n",
            "-----------------------------------------------------------------------------\n",
            "omega          0.1339  1.853e-02      7.231  4.811e-13    [9.764e-02,  0.170]\n",
            "alpha[1]       0.5798      0.261      2.225  2.605e-02    [6.917e-02,  1.091]\n",
            "alpha[2]       0.0000  1.736e-06      0.000      1.000 [-3.403e-06,3.403e-06]\n",
            "alpha[3]       0.0000  1.252e-07      0.000      1.000 [-2.454e-07,2.454e-07]\n",
            "alpha[4]       0.0000  1.136e-06      0.000      1.000 [-2.227e-06,2.227e-06]\n",
            "alpha[5]       0.0000  3.570e-05      0.000      1.000 [-6.998e-05,6.998e-05]\n",
            "alpha[6]       0.0000  6.116e-06      0.000      1.000 [-1.199e-05,1.199e-05]\n",
            "alpha[7]       0.0000  1.684e-07      0.000      1.000 [-3.300e-07,3.300e-07]\n",
            "alpha[8]       0.0000  6.868e-05      0.000      1.000 [-1.346e-04,1.346e-04]\n",
            "alpha[9]       0.0000  4.159e-07      0.000      1.000 [-8.151e-07,8.151e-07]\n",
            "alpha[10]      0.0000  1.450e-05      0.000      1.000 [-2.842e-05,2.842e-05]\n",
            "=============================================================================\n",
            "\n",
            "Covariance estimator: robust\n"
          ]
        },
        {
          "output_type": "display_data",
          "data": {
            "text/plain": [
              "<Figure size 640x480 with 1 Axes>"
            ],
            "image/png": "[encoded data removed]"
          },
          "metadata": {}
        }
      ]
    },
    {
      "cell_type": "markdown",
      "source": [
        "## First period ahead value Forcasting for Feb-2023"
      ],
      "metadata": {
        "id": "tgt430TZ686O"
      }
    },
    {
      "cell_type": "code",
      "source": [
        "test = df.loc['2023-1-1':'2023-1-15'][:10]\n",
        "test.head(10)"
      ],
      "metadata": {
        "colab": {
          "base_uri": "https://localhost:8080/",
          "height": 394
        },
        "id": "oDxFFpe66Qie",
        "outputId": "61092c0b-f8ce-4d27-bee4-c43b504ba362"
      },
      "execution_count": null,
      "outputs": [
        {
          "output_type": "execute_result",
          "data": {
            "text/plain": [
              "               EURO\n",
              "Date               \n",
              "2023-01-02  88.3753\n",
              "2023-01-03  88.2508\n",
              "2023-01-04  87.6546\n",
              "2023-01-05  87.7992\n",
              "2023-01-06  86.9235\n",
              "2023-01-09  87.9528\n",
              "2023-01-10  88.2829\n",
              "2023-01-11  87.8551\n",
              "2023-01-12  87.9566\n",
              "2023-01-13  88.2628"
            ],
            "text/html": [
              "\n",
              "  <div id=\"df-f021b7d4-c418-440a-9e92-223c87d1b5ff\">\n",
              "    <div class=\"colab-df-container\">\n",
              "      <div>\n",
              "<style scoped>\n",
              "    .dataframe tbody tr th:only-of-type {\n",
              "        vertical-align: middle;\n",
              "    }\n",
              "\n",
              "    .dataframe tbody tr th {\n",
              "        vertical-align: top;\n",
              "    }\n",
              "\n",
              "    .dataframe thead th {\n",
              "        text-align: right;\n",
              "    }\n",
              "</style>\n",
              "<table border=\"1\" class=\"dataframe\">\n",
              "  <thead>\n",
              "    <tr style=\"text-align: right;\">\n",
              "      <th></th>\n",
              "      <th>EURO</th>\n",
              "    </tr>\n",
              "    <tr>\n",
              "      <th>Date</th>\n",
              "      <th></th>\n",
              "    </tr>\n",
              "  </thead>\n",
              "  <tbody>\n",
              "    <tr>\n",
              "      <th>2023-01-02</th>\n",
              "      <td>88.3753</td>\n",
              "    </tr>\n",
              "    <tr>\n",
              "      <th>2023-01-03</th>\n",
              "      <td>88.2508</td>\n",
              "    </tr>\n",
              "    <tr>\n",
              "      <th>2023-01-04</th>\n",
              "      <td>87.6546</td>\n",
              "    </tr>\n",
              "    <tr>\n",
              "      <th>2023-01-05</th>\n",
              "      <td>87.7992</td>\n",
              "    </tr>\n",
              "    <tr>\n",
              "      <th>2023-01-06</th>\n",
              "      <td>86.9235</td>\n",
              "    </tr>\n",
              "    <tr>\n",
              "      <th>2023-01-09</th>\n",
              "      <td>87.9528</td>\n",
              "    </tr>\n",
              "    <tr>\n",
              "      <th>2023-01-10</th>\n",
              "      <td>88.2829</td>\n",
              "    </tr>\n",
              "    <tr>\n",
              "      <th>2023-01-11</th>\n",
              "      <td>87.8551</td>\n",
              "    </tr>\n",
              "    <tr>\n",
              "      <th>2023-01-12</th>\n",
              "      <td>87.9566</td>\n",
              "    </tr>\n",
              "    <tr>\n",
              "      <th>2023-01-13</th>\n",
              "      <td>88.2628</td>\n",
              "    </tr>\n",
              "  </tbody>\n",
              "</table>\n",
              "</div>\n",
              "      <button class=\"colab-df-convert\" onclick=\"convertToInteractive('df-f021b7d4-c418-440a-9e92-223c87d1b5ff')\"\n",
              "              title=\"Convert this dataframe to an interactive table.\"\n",
              "              style=\"display:none;\">\n",
              "        \n",
              "  <svg xmlns=\"http://www.w3.org/2000/svg\" height=\"24px\"viewBox=\"0 0 24 24\"\n",
              "       width=\"24px\">\n",
              "    <path d=\"M0 0h24v24H0V0z\" fill=\"none\"/>\n",
              "    <path d=\"M18.56 5.44l.94 2.06.94-2.06 2.06-.94-2.06-.94-.94-2.06-.94 2.06-2.06.94zm-11 1L8.5 8.5l.94-2.06 2.06-.94-2.06-.94L8.5 2.5l-.94 2.06-2.06.94zm10 10l.94 2.06.94-2.06 2.06-.94-2.06-.94-.94-2.06-.94 2.06-2.06.94z\"/><path d=\"M17.41 7.96l-1.37-1.37c-.4-.4-.92-.59-1.43-.59-.52 0-1.04.2-1.43.59L10.3 9.45l-7.72 7.72c-.78.78-.78 2.05 0 2.83L4 21.41c.39.39.9.59 1.41.59.51 0 1.02-.2 1.41-.59l7.78-7.78 2.81-2.81c.8-.78.8-2.07 0-2.86zM5.41 20L4 18.59l7.72-7.72 1.47 1.35L5.41 20z\"/>\n",
              "  </svg>\n",
              "      </button>\n",
              "      \n",
              "  <style>\n",
              "    .colab-df-container {\n",
              "      display:flex;\n",
              "      flex-wrap:wrap;\n",
              "      gap: 12px;\n",
              "    }\n",
              "\n",
              "    .colab-df-convert {\n",
              "      background-color: #E8F0FE;\n",
              "      border: none;\n",
              "      border-radius: 50%;\n",
              "      cursor: pointer;\n",
              "      display: none;\n",
              "      fill: #1967D2;\n",
              "      height: 32px;\n",
              "      padding: 0 0 0 0;\n",
              "      width: 32px;\n",
              "    }\n",
              "\n",
              "    .colab-df-convert:hover {\n",
              "      background-color: #E2EBFA;\n",
              "      box-shadow: 0px 1px 2px rgba(60, 64, 67, 0.3), 0px 1px 3px 1px rgba(60, 64, 67, 0.15);\n",
              "      fill: #174EA6;\n",
              "    }\n",
              "\n",
              "    [theme=dark] .colab-df-convert {\n",
              "      background-color: #3B4455;\n",
              "      fill: #D2E3FC;\n",
              "    }\n",
              "\n",
              "    [theme=dark] .colab-df-convert:hover {\n",
              "      background-color: #434B5C;\n",
              "      box-shadow: 0px 1px 3px 1px rgba(0, 0, 0, 0.15);\n",
              "      filter: drop-shadow(0px 1px 2px rgba(0, 0, 0, 0.3));\n",
              "      fill: #FFFFFF;\n",
              "    }\n",
              "  </style>\n",
              "\n",
              "      <script>\n",
              "        const buttonEl =\n",
              "          document.querySelector('#df-f021b7d4-c418-440a-9e92-223c87d1b5ff button.colab-df-convert');\n",
              "        buttonEl.style.display =\n",
              "          google.colab.kernel.accessAllowed ? 'block' : 'none';\n",
              "\n",
              "        async function convertToInteractive(key) {\n",
              "          const element = document.querySelector('#df-f021b7d4-c418-440a-9e92-223c87d1b5ff');\n",
              "          const dataTable =\n",
              "            await google.colab.kernel.invokeFunction('convertToInteractive',\n",
              "                                                     [key], {});\n",
              "          if (!dataTable) return;\n",
              "\n",
              "          const docLinkHtml = 'Like what you see? Visit the ' +\n",
              "            '<a target=\"_blank\" href=https://colab.research.google.com/notebooks/data_table.ipynb>data table notebook</a>'\n",
              "            + ' to learn more about interactive tables.';\n",
              "          element.innerHTML = '';\n",
              "          dataTable['output_type'] = 'display_data';\n",
              "          await google.colab.output.renderOutput(dataTable, element);\n",
              "          const docLink = document.createElement('div');\n",
              "          docLink.innerHTML = docLinkHtml;\n",
              "          element.appendChild(docLink);\n",
              "        }\n",
              "      </script>\n",
              "    </div>\n",
              "  </div>\n",
              "  "
            ]
          },
          "metadata": {},
          "execution_count": 123
        }
      ]
    },
    {
      "cell_type": "code",
      "source": [
        "forecasts=model_fit.forecast(horizon=1, reindex=False)\n",
        "print(forecasts.residual_variance.iloc[-3:])"
      ],
      "metadata": {
        "colab": {
          "base_uri": "https://localhost:8080/"
        },
        "id": "kiq_jVaFq5Vq",
        "outputId": "db3348fb-97bf-4a73-baea-abe1da58e61f"
      },
      "execution_count": 130,
      "outputs": [
        {
          "output_type": "stream",
          "name": "stdout",
          "text": [
            "                 h.1\n",
            "Date                \n",
            "2022-12-30  0.146239\n"
          ]
        }
      ]
    },
    {
      "cell_type": "code",
      "source": [
        "forecasts.residual_variance.iloc[-3:]['h.1'].to_list()[0]"
      ],
      "metadata": {
        "colab": {
          "base_uri": "https://localhost:8080/"
        },
        "id": "hJnW245buS8l",
        "outputId": "1de3b334-3148-4fc2-83ee-0075f7963136"
      },
      "execution_count": 132,
      "outputs": [
        {
          "output_type": "execute_result",
          "data": {
            "text/plain": [
              "0.1462390004497691"
            ]
          },
          "metadata": {},
          "execution_count": 132
        }
      ]
    },
    {
      "cell_type": "code",
      "source": [
        "residual_1 = []\n",
        "residual_2 = []\n",
        "for i in range(0,10): #Rolling Forecast ARCH model\n",
        "  mmr1= df.loc['2022-1-1':f'2023-1-{1+i}'] \n",
        "  dmmr1 = mmr1.diff()\n",
        "  dmmr1.iloc[0]=mmr1.iloc[0]\n",
        "  # # fit model\n",
        "  model = arch_model(dmmr1, mean='Zero', vol='ARCH', p=5) #-> ARCH model 1\n",
        "  model_fit = model.fit()\n",
        "  forecasts1=model_fit.forecast(horizon=1, reindex=False)\n",
        "\n",
        "  residual_1.append(forecasts1.residual_variance.iloc[-3:]['h.1'].to_list()[0]) #First period ahead forecast for Model1 \n",
        "\n",
        "  #prediction by model 2\n",
        "  model2 = arch_model(dmmr1, mean='Zero', vol='ARCH', p=10) #-> ARCH model 2\n",
        "  model_fit2 = model2.fit()\n",
        "  forecasts2=model_fit2.forecast(horizon=1, reindex=False)\n",
        "\n",
        "  residual_2.append(forecasts2.residual_variance.iloc[-3:]['h.1'].to_list()[0]) #First period ahead forecast for Model2\n",
        "  \n",
        "  "
      ],
      "metadata": {
        "colab": {
          "base_uri": "https://localhost:8080/"
        },
        "id": "yE5E4e0FFfn0",
        "outputId": "486c18c1-fa50-4165-b717-070455cc8a6a"
      },
      "execution_count": 139,
      "outputs": [
        {
          "output_type": "stream",
          "name": "stdout",
          "text": [
            "Iteration:      1,   Func. Count:      8,   Neg. LLF: 688.1309913357711\n",
            "Iteration:      2,   Func. Count:     16,   Neg. LLF: 19362.866049703756\n",
            "Iteration:      3,   Func. Count:     24,   Neg. LLF: 19082.030418702074\n",
            "Iteration:      4,   Func. Count:     32,   Neg. LLF: 19362.866049703756\n",
            "Iteration:      5,   Func. Count:     40,   Neg. LLF: 159.54537503293182\n",
            "Iteration:      6,   Func. Count:     47,   Neg. LLF: 265.77838861556364\n",
            "Iteration:      7,   Func. Count:     58,   Neg. LLF: 18540.39973847478\n",
            "Iteration:      8,   Func. Count:     66,   Neg. LLF: 142.48988627605252\n",
            "Iteration:      9,   Func. Count:     72,   Neg. LLF: 142.49008627817295\n",
            "Optimization terminated successfully    (Exit mode 0)\n",
            "            Current function value: 142.48988627605252\n",
            "            Iterations: 13\n",
            "            Function evaluations: 72\n",
            "            Gradient evaluations: 9\n",
            "Iteration:      1,   Func. Count:     13,   Neg. LLF: 978.8489908531242\n",
            "Iteration:      2,   Func. Count:     26,   Neg. LLF: 19362.680313696295\n",
            "Iteration:      3,   Func. Count:     39,   Neg. LLF: 15837.030530720842\n",
            "Iteration:      4,   Func. Count:     52,   Neg. LLF: 3545.6860535540764\n",
            "Iteration:      5,   Func. Count:     65,   Neg. LLF: 19362.864635978334\n",
            "Iteration:      6,   Func. Count:     78,   Neg. LLF: 19322.132427675333\n",
            "Iteration:      7,   Func. Count:     91,   Neg. LLF: 12375.85408320345\n",
            "Iteration:      8,   Func. Count:    104,   Neg. LLF: 19567.490825647365\n",
            "Iteration:      9,   Func. Count:    117,   Neg. LLF: 19362.866049820586\n",
            "Iteration:     10,   Func. Count:    130,   Neg. LLF: 19362.866049820586\n",
            "Iteration:     11,   Func. Count:    143,   Neg. LLF: 25365130.032917235\n",
            "Iteration:     12,   Func. Count:    156,   Neg. LLF: 49193.58459300518\n",
            "Iteration:     13,   Func. Count:    169,   Neg. LLF: 29207.798390253796\n",
            "Iteration:     14,   Func. Count:    182,   Neg. LLF: 33276.43295978456\n",
            "Iteration:     15,   Func. Count:    195,   Neg. LLF: 19362.72731349728\n",
            "Iteration:     16,   Func. Count:    208,   Neg. LLF: 22401.92138287497\n",
            "Iteration:     17,   Func. Count:    221,   Neg. LLF: 1679.4638956968429\n",
            "Iteration:     18,   Func. Count:    234,   Neg. LLF: 23845.0244033205\n",
            "Iteration:     19,   Func. Count:    247,   Neg. LLF: 19362.86604980851\n",
            "Iteration:     20,   Func. Count:    260,   Neg. LLF: 25365895.286430564\n",
            "Iteration:     21,   Func. Count:    273,   Neg. LLF: 152317.40528260972\n",
            "Iteration:     22,   Func. Count:    286,   Neg. LLF: 698.2324676348237\n",
            "Iteration:     23,   Func. Count:    299,   Neg. LLF: 62138.53147628657\n",
            "Iteration:     24,   Func. Count:    312,   Neg. LLF: 40939.615598765144\n",
            "Iteration:     25,   Func. Count:    325,   Neg. LLF: 35084.54241472625\n",
            "Iteration:     26,   Func. Count:    338,   Neg. LLF: 27340.438812478846\n",
            "Iteration:     27,   Func. Count:    351,   Neg. LLF: 28076.120081041685\n",
            "Iteration:     28,   Func. Count:    364,   Neg. LLF: 813.4257241519952\n",
            "Iteration:     29,   Func. Count:    377,   Neg. LLF: 161.67021287380942\n",
            "Iteration:     30,   Func. Count:    390,   Neg. LLF: 141.09663326174086\n",
            "Iteration:     31,   Func. Count:    401,   Neg. LLF: 141.09645407741414\n",
            "Optimization terminated successfully    (Exit mode 0)\n",
            "            Current function value: 141.09663326174086\n",
            "            Iterations: 35\n",
            "            Function evaluations: 401\n",
            "            Gradient evaluations: 31\n",
            "Iteration:      1,   Func. Count:      8,   Neg. LLF: 678.6471334227562\n",
            "Iteration:      2,   Func. Count:     16,   Neg. LLF: 19365.139602742332\n",
            "Iteration:      3,   Func. Count:     24,   Neg. LLF: 19052.383301517497\n",
            "Iteration:      4,   Func. Count:     32,   Neg. LLF: 19365.139602742332\n",
            "Iteration:      5,   Func. Count:     40,   Neg. LLF: 152.23623727908512\n",
            "Iteration:      6,   Func. Count:     47,   Neg. LLF: 25448217.81212107\n",
            "Iteration:      7,   Func. Count:     55,   Neg. LLF: 16500.184930753003\n",
            "Iteration:      8,   Func. Count:     63,   Neg. LLF: 175.99308143525798\n",
            "Iteration:      9,   Func. Count:     71,   Neg. LLF: 140.34961030118563\n",
            "Iteration:     10,   Func. Count:     78,   Neg. LLF: 201.67185216452265\n",
            "Iteration:     11,   Func. Count:     87,   Neg. LLF: 140.34685461431292\n",
            "Optimization terminated successfully    (Exit mode 0)\n",
            "            Current function value: 140.346665247835\n",
            "            Iterations: 15\n",
            "            Function evaluations: 87\n",
            "            Gradient evaluations: 11\n",
            "Iteration:      1,   Func. Count:     13,   Neg. LLF: 985.2955648596915\n",
            "Iteration:      2,   Func. Count:     26,   Neg. LLF: 19365.139352655937\n",
            "Iteration:      3,   Func. Count:     39,   Neg. LLF: 17597.8162387559\n",
            "Iteration:      4,   Func. Count:     52,   Neg. LLF: 2760.5846002070966\n",
            "Iteration:      5,   Func. Count:     65,   Neg. LLF: 19365.12900035114\n",
            "Iteration:      6,   Func. Count:     78,   Neg. LLF: 19346.23831765966\n",
            "Iteration:      7,   Func. Count:     91,   Neg. LLF: 11764.250191809295\n",
            "Iteration:      8,   Func. Count:    104,   Neg. LLF: 536.2768799486757\n",
            "Iteration:      9,   Func. Count:    117,   Neg. LLF: 19365.139602910982\n",
            "Iteration:     10,   Func. Count:    130,   Neg. LLF: 19365.139602910982\n",
            "Iteration:     11,   Func. Count:    143,   Neg. LLF: 19365.139602910982\n",
            "Iteration:     12,   Func. Count:    156,   Neg. LLF: 25449581.701388486\n",
            "Iteration:     13,   Func. Count:    169,   Neg. LLF: 154601.78536863998\n",
            "Iteration:     14,   Func. Count:    182,   Neg. LLF: 76816.23088435625\n",
            "Iteration:     15,   Func. Count:    195,   Neg. LLF: 69687.86675422642\n",
            "Iteration:     16,   Func. Count:    208,   Neg. LLF: 19365.139602910982\n",
            "Iteration:     17,   Func. Count:    221,   Neg. LLF: 19365.139602910982\n",
            "Iteration:     18,   Func. Count:    234,   Neg. LLF: 19679.591411348018\n",
            "Iteration:     19,   Func. Count:    247,   Neg. LLF: 25450818.891592484\n",
            "Iteration:     20,   Func. Count:    260,   Neg. LLF: 70873.48620117604\n",
            "Iteration:     21,   Func. Count:    273,   Neg. LLF: 2122.9820228857825\n",
            "Iteration:     22,   Func. Count:    286,   Neg. LLF: 167.7803570577345\n",
            "Iteration:     23,   Func. Count:    298,   Neg. LLF: 11840.7443497083\n",
            "Iteration:     24,   Func. Count:    311,   Neg. LLF: 41630.29852751422\n",
            "Iteration:     25,   Func. Count:    324,   Neg. LLF: 267.2753369456642\n",
            "Iteration:     26,   Func. Count:    337,   Neg. LLF: 43511.18790372359\n",
            "Iteration:     27,   Func. Count:    350,   Neg. LLF: 149.5288339584306\n",
            "Iteration:     28,   Func. Count:    362,   Neg. LLF: 159.06862437928737\n",
            "Iteration:     29,   Func. Count:    378,   Neg. LLF: 149.2654090999424\n",
            "Positive directional derivative for linesearch    (Exit mode 8)\n",
            "            Current function value: 149.2654684634643\n",
            "            Iterations: 33\n",
            "            Function evaluations: 378\n",
            "            Gradient evaluations: 29\n",
            "Iteration:      1,   Func. Count:      8,   Neg. LLF: 690.809861956242\n",
            "Iteration:      2,   Func. Count:     16,   Neg. LLF: 19366.7814233814\n",
            "Iteration:      3,   Func. Count:     24,   Neg. LLF: 19155.415950520888\n",
            "Iteration:      4,   Func. Count:     32,   Neg. LLF: 19366.7814233814\n",
            "Iteration:      5,   Func. Count:     40,   Neg. LLF: 19366.7814233814\n",
            "Iteration:      6,   Func. Count:     48,   Neg. LLF: 19366.7814233814\n",
            "Iteration:      7,   Func. Count:     56,   Neg. LLF: 19362.029489205815\n",
            "Iteration:      8,   Func. Count:     64,   Neg. LLF: 20431.924148501887\n",
            "Iteration:      9,   Func. Count:     72,   Neg. LLF: 21602.67305801023\n",
            "Iteration:     10,   Func. Count:     80,   Neg. LLF: 172.45776108794598\n",
            "Iteration:     11,   Func. Count:     87,   Neg. LLF: 233.0674807458738\n",
            "Iteration:     12,   Func. Count:     97,   Neg. LLF: 15539.797499650138\n",
            "Iteration:     13,   Func. Count:    105,   Neg. LLF: 141.18853639549948\n",
            "Iteration:     14,   Func. Count:    111,   Neg. LLF: 141.18872548886418\n",
            "Optimization terminated successfully    (Exit mode 0)\n",
            "            Current function value: 141.18853639549948\n",
            "            Iterations: 18\n",
            "            Function evaluations: 111\n",
            "            Gradient evaluations: 14\n",
            "Iteration:      1,   Func. Count:     13,   Neg. LLF: 983.0408286457229\n",
            "Iteration:      2,   Func. Count:     26,   Neg. LLF: 19366.660250764173\n",
            "Iteration:      3,   Func. Count:     39,   Neg. LLF: 19366.7814233814\n",
            "Iteration:      4,   Func. Count:     52,   Neg. LLF: 929.3356945526236\n",
            "Iteration:      5,   Func. Count:     65,   Neg. LLF: 19366.7814233814\n",
            "Iteration:      6,   Func. Count:     78,   Neg. LLF: 19356.826900018947\n",
            "Iteration:      7,   Func. Count:     91,   Neg. LLF: 19366.7814233814\n",
            "Iteration:      8,   Func. Count:    104,   Neg. LLF: 343.69372765858594\n",
            "Iteration:      9,   Func. Count:    117,   Neg. LLF: 19366.781423377597\n",
            "Iteration:     10,   Func. Count:    130,   Neg. LLF: 25490614.99845343\n",
            "Iteration:     11,   Func. Count:    143,   Neg. LLF: 91194.64944393137\n",
            "Iteration:     12,   Func. Count:    156,   Neg. LLF: 59021.64102930792\n",
            "Iteration:     13,   Func. Count:    169,   Neg. LLF: 527.7435425773367\n",
            "Iteration:     14,   Func. Count:    182,   Neg. LLF: 19366.530402233067\n",
            "Iteration:     15,   Func. Count:    195,   Neg. LLF: 19366.781423377597\n",
            "Iteration:     16,   Func. Count:    208,   Neg. LLF: 1026.086188479721\n",
            "Iteration:     17,   Func. Count:    221,   Neg. LLF: 206.55175659614633\n",
            "Iteration:     18,   Func. Count:    234,   Neg. LLF: 25490625.03165989\n",
            "Iteration:     19,   Func. Count:    247,   Neg. LLF: 38442.41630685047\n",
            "Iteration:     20,   Func. Count:    260,   Neg. LLF: 24290.196649866968\n",
            "Iteration:     21,   Func. Count:    273,   Neg. LLF: 32637.569025746\n",
            "Iteration:     22,   Func. Count:    286,   Neg. LLF: 20553.59765231623\n",
            "Iteration:     23,   Func. Count:    299,   Neg. LLF: 166.80895519839987\n"
          ]
        },
        {
          "output_type": "stream",
          "name": "stderr",
          "text": [
            "/usr/local/lib/python3.9/dist-packages/arch/univariate/base.py:753: ConvergenceWarning: The optimizer returned code 8. The message is:\n",
            "Positive directional derivative for linesearch\n",
            "See scipy.optimize.fmin_slsqp for code meaning.\n",
            "\n",
            "  warnings.warn(\n"
          ]
        },
        {
          "output_type": "stream",
          "name": "stdout",
          "text": [
            "Iteration:     24,   Func. Count:    312,   Neg. LLF: 141.05823651234448\n",
            "Iteration:     25,   Func. Count:    323,   Neg. LLF: 141.0581148911645\n",
            "Optimization terminated successfully    (Exit mode 0)\n",
            "            Current function value: 141.05823651234448\n",
            "            Iterations: 29\n",
            "            Function evaluations: 323\n",
            "            Gradient evaluations: 25\n",
            "Iteration:      1,   Func. Count:      8,   Neg. LLF: 695.5177962121155\n",
            "Iteration:      2,   Func. Count:     16,   Neg. LLF: 19378.608788405763\n",
            "Iteration:      3,   Func. Count:     24,   Neg. LLF: 19225.03880864581\n",
            "Iteration:      4,   Func. Count:     32,   Neg. LLF: 6910.487266568812\n",
            "Iteration:      5,   Func. Count:     40,   Neg. LLF: 168.91580213277695\n",
            "Iteration:      6,   Func. Count:     47,   Neg. LLF: 277.85075341602806\n",
            "Iteration:      7,   Func. Count:     58,   Neg. LLF: 17741.73361487324\n",
            "Iteration:      8,   Func. Count:     66,   Neg. LLF: 144.67528381178664\n",
            "Iteration:      9,   Func. Count:     72,   Neg. LLF: 144.6754815999554\n",
            "Optimization terminated successfully    (Exit mode 0)\n",
            "            Current function value: 144.67528381178664\n",
            "            Iterations: 13\n",
            "            Function evaluations: 72\n",
            "            Gradient evaluations: 9\n",
            "Iteration:      1,   Func. Count:     13,   Neg. LLF: 993.1858354844464\n",
            "Iteration:      2,   Func. Count:     26,   Neg. LLF: 19379.07583131842\n",
            "Iteration:      3,   Func. Count:     39,   Neg. LLF: 19197.56552147935\n",
            "Iteration:      4,   Func. Count:     52,   Neg. LLF: 648.9769156753604\n",
            "Iteration:      5,   Func. Count:     65,   Neg. LLF: 19379.10177593048\n",
            "Iteration:      6,   Func. Count:     78,   Neg. LLF: 19345.36996181035\n",
            "Iteration:      7,   Func. Count:     91,   Neg. LLF: 19379.10177593048\n",
            "Iteration:      8,   Func. Count:    104,   Neg. LLF: 19660.502808710007\n",
            "Iteration:      9,   Func. Count:    117,   Neg. LLF: 39359.193393586596\n",
            "Iteration:     10,   Func. Count:    130,   Neg. LLF: 22202.577593281065\n",
            "Iteration:     11,   Func. Count:    143,   Neg. LLF: 29311.696932363964\n",
            "Iteration:     12,   Func. Count:    156,   Neg. LLF: 29415.515572629454\n",
            "Iteration:     13,   Func. Count:    169,   Neg. LLF: 39506.55460207429\n",
            "Iteration:     14,   Func. Count:    182,   Neg. LLF: 22656.739155798525\n",
            "Iteration:     15,   Func. Count:    195,   Neg. LLF: 28966.302155977755\n",
            "Iteration:     16,   Func. Count:    208,   Neg. LLF: 160.01027000550704\n",
            "Iteration:     17,   Func. Count:    220,   Neg. LLF: 142.85316819086424\n",
            "Iteration:     18,   Func. Count:    232,   Neg. LLF: 6084.940043374768\n",
            "Iteration:     19,   Func. Count:    254,   Neg. LLF: 1121.9424285994237\n",
            "Iteration:     20,   Func. Count:    276,   Neg. LLF: 31859.18082631813\n",
            "Iteration:     21,   Func. Count:    288,   Neg. LLF: 143.5271416649865\n",
            "Optimization terminated successfully    (Exit mode 0)\n",
            "            Current function value: 143.52707954872423\n",
            "            Iterations: 25\n",
            "            Function evaluations: 288\n",
            "            Gradient evaluations: 21\n",
            "Iteration:      1,   Func. Count:      8,   Neg. LLF: 666.46694027383\n",
            "Iteration:      2,   Func. Count:     16,   Neg. LLF: 19381.535212481744\n",
            "Iteration:      3,   Func. Count:     24,   Neg. LLF: 19231.19613699688\n",
            "Iteration:      4,   Func. Count:     32,   Neg. LLF: 6331.122611167762\n",
            "Iteration:      5,   Func. Count:     40,   Neg. LLF: 174.78178141097635\n",
            "Iteration:      6,   Func. Count:     47,   Neg. LLF: 279.3085432540392\n",
            "Iteration:      7,   Func. Count:     58,   Neg. LLF: 17473.929255119183\n",
            "Iteration:      8,   Func. Count:     66,   Neg. LLF: 146.06857194129483\n",
            "Iteration:      9,   Func. Count:     73,   Neg. LLF: 19381.547803975674\n",
            "Iteration:     10,   Func. Count:     81,   Neg. LLF: 159.79589569280927\n",
            "Iteration:     11,   Func. Count:     90,   Neg. LLF: 19381.547803975674\n",
            "Iteration:     12,   Func. Count:     97,   Neg. LLF: 142.4624232813273\n",
            "Optimization terminated successfully    (Exit mode 0)\n",
            "            Current function value: 142.4622326586537\n",
            "            Iterations: 16\n",
            "            Function evaluations: 97\n",
            "            Gradient evaluations: 12\n",
            "Iteration:      1,   Func. Count:     13,   Neg. LLF: 966.1653981385227\n",
            "Iteration:      2,   Func. Count:     26,   Neg. LLF: 19380.732664613184\n",
            "Iteration:      3,   Func. Count:     39,   Neg. LLF: 19381.54780396222\n",
            "Iteration:      4,   Func. Count:     52,   Neg. LLF: 19381.54780396222\n",
            "Iteration:      5,   Func. Count:     65,   Neg. LLF: 277.55710394530547\n",
            "Iteration:      6,   Func. Count:     77,   Neg. LLF: 19381.54780396222\n",
            "Iteration:      7,   Func. Count:     90,   Neg. LLF: 53943.57611292265\n",
            "Iteration:      8,   Func. Count:    103,   Neg. LLF: 23111.68773728746\n",
            "Iteration:      9,   Func. Count:    116,   Neg. LLF: 26186.134253771816\n",
            "Iteration:     10,   Func. Count:    129,   Neg. LLF: 28188.020968317873\n",
            "Iteration:     11,   Func. Count:    142,   Neg. LLF: 28439.00217857778\n",
            "Iteration:     12,   Func. Count:    155,   Neg. LLF: 56715.78461873833\n",
            "Iteration:     13,   Func. Count:    168,   Neg. LLF: 25336.037602458586\n",
            "Iteration:     14,   Func. Count:    181,   Neg. LLF: 26788.084439261816\n",
            "Iteration:     15,   Func. Count:    194,   Neg. LLF: 212.50056204132545\n",
            "Iteration:     16,   Func. Count:    207,   Neg. LLF: 19381.54780396222\n",
            "Iteration:     17,   Func. Count:    220,   Neg. LLF: 19381.54780396222\n",
            "Iteration:     18,   Func. Count:    233,   Neg. LLF: 26022784.446530048\n",
            "Iteration:     19,   Func. Count:    246,   Neg. LLF: 23171.031780510806\n",
            "Iteration:     20,   Func. Count:    259,   Neg. LLF: 35016.65661196623\n",
            "Iteration:     21,   Func. Count:    272,   Neg. LLF: 20807.604356429176\n",
            "Iteration:     22,   Func. Count:    285,   Neg. LLF: 153.19240564469857\n",
            "Iteration:     23,   Func. Count:    297,   Neg. LLF: 5241.270799503389\n",
            "Iteration:     24,   Func. Count:    314,   Neg. LLF: 297.59353279856435\n",
            "Iteration:     25,   Func. Count:    330,   Neg. LLF: 261.2044216380536\n",
            "Iteration:     26,   Func. Count:    352,   Neg. LLF: 632.8781747746784\n",
            "Iteration:     27,   Func. Count:    372,   Neg. LLF: 29046.04945043762\n",
            "Iteration:     28,   Func. Count:    394,   Neg. LLF: 11946.603450255629\n",
            "Iteration:     29,   Func. Count:    407,   Neg. LLF: 144.86273205703418\n",
            "Iteration:     30,   Func. Count:    418,   Neg. LLF: 144.8627628011463\n",
            "Optimization terminated successfully    (Exit mode 0)\n",
            "            Current function value: 144.86273205703418\n",
            "            Iterations: 34\n",
            "            Function evaluations: 418\n",
            "            Gradient evaluations: 30\n",
            "Iteration:      1,   Func. Count:      8,   Neg. LLF: 648.0344866014409\n",
            "Iteration:      2,   Func. Count:     16,   Neg. LLF: 19400.824621444233\n",
            "Iteration:      3,   Func. Count:     24,   Neg. LLF: 19400.824621444233\n",
            "Iteration:      4,   Func. Count:     32,   Neg. LLF: 4564.408931627165\n",
            "Iteration:      5,   Func. Count:     40,   Neg. LLF: 156.42878594588532\n",
            "Iteration:      6,   Func. Count:     47,   Neg. LLF: 27052760.649138108\n",
            "Iteration:      7,   Func. Count:     55,   Neg. LLF: 16273.141075899048\n",
            "Iteration:      8,   Func. Count:     63,   Neg. LLF: 162.15222352016258\n",
            "Iteration:      9,   Func. Count:     71,   Neg. LLF: 144.41295611276843\n",
            "Iteration:     10,   Func. Count:     77,   Neg. LLF: 144.41314511415322\n",
            "Optimization terminated successfully    (Exit mode 0)\n",
            "            Current function value: 144.41295611276843\n",
            "            Iterations: 14\n",
            "            Function evaluations: 77\n",
            "            Gradient evaluations: 10\n",
            "Iteration:      1,   Func. Count:     13,   Neg. LLF: 992.2385030443397\n",
            "Iteration:      2,   Func. Count:     26,   Neg. LLF: 19396.071119192027\n",
            "Iteration:      3,   Func. Count:     39,   Neg. LLF: 18579.960064230745\n",
            "Iteration:      4,   Func. Count:     52,   Neg. LLF: 19400.824621444233\n",
            "Iteration:      5,   Func. Count:     65,   Neg. LLF: 195.79736134963008\n",
            "Iteration:      6,   Func. Count:     77,   Neg. LLF: 19400.824621444233\n",
            "Iteration:      7,   Func. Count:     90,   Neg. LLF: 27030520.196602564\n",
            "Iteration:      8,   Func. Count:    103,   Neg. LLF: 27054136.979233198\n",
            "Iteration:      9,   Func. Count:    116,   Neg. LLF: 104854.94029061322\n",
            "Iteration:     10,   Func. Count:    129,   Neg. LLF: 37625.87470262814\n",
            "Iteration:     11,   Func. Count:    142,   Neg. LLF: 28487.444638388653\n",
            "Iteration:     12,   Func. Count:    155,   Neg. LLF: 27485.565657449864\n",
            "Iteration:     13,   Func. Count:    168,   Neg. LLF: 26161.595622011315\n",
            "Iteration:     14,   Func. Count:    181,   Neg. LLF: 160.36574618351887\n",
            "Iteration:     15,   Func. Count:    193,   Neg. LLF: 3572.2893312290785\n",
            "Iteration:     16,   Func. Count:    210,   Neg. LLF: 387.00935998260223\n",
            "Iteration:     17,   Func. Count:    228,   Neg. LLF: 1168.76784000322\n",
            "Iteration:     18,   Func. Count:    250,   Neg. LLF: 19400.82462143396\n",
            "Iteration:     19,   Func. Count:    263,   Neg. LLF: 19400.82462143396\n",
            "Iteration:     20,   Func. Count:    276,   Neg. LLF: 6419.880528842005\n",
            "Iteration:     21,   Func. Count:    292,   Neg. LLF: 589.9832006295392\n",
            "Iteration:     22,   Func. Count:    307,   Neg. LLF: 145.0578960594957\n",
            "Optimization terminated successfully    (Exit mode 0)\n",
            "            Current function value: 145.05783350755735\n",
            "            Iterations: 26\n",
            "            Function evaluations: 307\n",
            "            Gradient evaluations: 22\n",
            "Iteration:      1,   Func. Count:      8,   Neg. LLF: 648.0344866014409\n",
            "Iteration:      2,   Func. Count:     16,   Neg. LLF: 19400.824621444233\n",
            "Iteration:      3,   Func. Count:     24,   Neg. LLF: 19400.824621444233\n",
            "Iteration:      4,   Func. Count:     32,   Neg. LLF: 4564.408931627165\n",
            "Iteration:      5,   Func. Count:     40,   Neg. LLF: 156.42878594588532\n",
            "Iteration:      6,   Func. Count:     47,   Neg. LLF: 27052760.649138108\n",
            "Iteration:      7,   Func. Count:     55,   Neg. LLF: 16273.141075899048\n",
            "Iteration:      8,   Func. Count:     63,   Neg. LLF: 162.15222352016258\n",
            "Iteration:      9,   Func. Count:     71,   Neg. LLF: 144.41295611276843\n",
            "Iteration:     10,   Func. Count:     77,   Neg. LLF: 144.41314511415322\n",
            "Optimization terminated successfully    (Exit mode 0)\n",
            "            Current function value: 144.41295611276843\n",
            "            Iterations: 14\n",
            "            Function evaluations: 77\n",
            "            Gradient evaluations: 10\n",
            "Iteration:      1,   Func. Count:     13,   Neg. LLF: 992.2385030443397\n",
            "Iteration:      2,   Func. Count:     26,   Neg. LLF: 19396.071119192027\n",
            "Iteration:      3,   Func. Count:     39,   Neg. LLF: 18579.960064230745\n",
            "Iteration:      4,   Func. Count:     52,   Neg. LLF: 19400.824621444233\n",
            "Iteration:      5,   Func. Count:     65,   Neg. LLF: 195.79736134963008\n",
            "Iteration:      6,   Func. Count:     77,   Neg. LLF: 19400.824621444233\n",
            "Iteration:      7,   Func. Count:     90,   Neg. LLF: 27030520.196602564\n",
            "Iteration:      8,   Func. Count:    103,   Neg. LLF: 27054136.979233198\n",
            "Iteration:      9,   Func. Count:    116,   Neg. LLF: 104854.94029061322\n",
            "Iteration:     10,   Func. Count:    129,   Neg. LLF: 37625.87470262814\n",
            "Iteration:     11,   Func. Count:    142,   Neg. LLF: 28487.444638388653\n",
            "Iteration:     12,   Func. Count:    155,   Neg. LLF: 27485.565657449864\n",
            "Iteration:     13,   Func. Count:    168,   Neg. LLF: 26161.595622011315\n",
            "Iteration:     14,   Func. Count:    181,   Neg. LLF: 160.36574618351887\n",
            "Iteration:     15,   Func. Count:    193,   Neg. LLF: 3572.2893312290785\n",
            "Iteration:     16,   Func. Count:    210,   Neg. LLF: 387.00935998260223\n",
            "Iteration:     17,   Func. Count:    228,   Neg. LLF: 1168.76784000322\n",
            "Iteration:     18,   Func. Count:    250,   Neg. LLF: 19400.82462143396\n",
            "Iteration:     19,   Func. Count:    263,   Neg. LLF: 19400.82462143396\n",
            "Iteration:     20,   Func. Count:    276,   Neg. LLF: 6419.880528842005\n",
            "Iteration:     21,   Func. Count:    292,   Neg. LLF: 589.9832006295392\n",
            "Iteration:     22,   Func. Count:    307,   Neg. LLF: 145.0578960594957\n",
            "Optimization terminated successfully    (Exit mode 0)\n",
            "            Current function value: 145.05783350755735\n",
            "            Iterations: 26\n",
            "            Function evaluations: 307\n",
            "            Gradient evaluations: 22\n",
            "Iteration:      1,   Func. Count:      8,   Neg. LLF: 648.0344866014409\n",
            "Iteration:      2,   Func. Count:     16,   Neg. LLF: 19400.824621444233\n",
            "Iteration:      3,   Func. Count:     24,   Neg. LLF: 19400.824621444233\n",
            "Iteration:      4,   Func. Count:     32,   Neg. LLF: 4564.408931627165\n",
            "Iteration:      5,   Func. Count:     40,   Neg. LLF: 156.42878594588532\n",
            "Iteration:      6,   Func. Count:     47,   Neg. LLF: 27052760.649138108\n",
            "Iteration:      7,   Func. Count:     55,   Neg. LLF: 16273.141075899048\n",
            "Iteration:      8,   Func. Count:     63,   Neg. LLF: 162.15222352016258\n",
            "Iteration:      9,   Func. Count:     71,   Neg. LLF: 144.41295611276843\n",
            "Iteration:     10,   Func. Count:     77,   Neg. LLF: 144.41314511415322\n",
            "Optimization terminated successfully    (Exit mode 0)\n",
            "            Current function value: 144.41295611276843\n",
            "            Iterations: 14\n",
            "            Function evaluations: 77\n",
            "            Gradient evaluations: 10\n",
            "Iteration:      1,   Func. Count:     13,   Neg. LLF: 992.2385030443397\n",
            "Iteration:      2,   Func. Count:     26,   Neg. LLF: 19396.071119192027\n",
            "Iteration:      3,   Func. Count:     39,   Neg. LLF: 18579.960064230745\n",
            "Iteration:      4,   Func. Count:     52,   Neg. LLF: 19400.824621444233\n",
            "Iteration:      5,   Func. Count:     65,   Neg. LLF: 195.79736134963008\n",
            "Iteration:      6,   Func. Count:     77,   Neg. LLF: 19400.824621444233\n",
            "Iteration:      7,   Func. Count:     90,   Neg. LLF: 27030520.196602564\n",
            "Iteration:      8,   Func. Count:    103,   Neg. LLF: 27054136.979233198\n",
            "Iteration:      9,   Func. Count:    116,   Neg. LLF: 104854.94029061322\n",
            "Iteration:     10,   Func. Count:    129,   Neg. LLF: 37625.87470262814\n",
            "Iteration:     11,   Func. Count:    142,   Neg. LLF: 28487.444638388653\n",
            "Iteration:     12,   Func. Count:    155,   Neg. LLF: 27485.565657449864\n",
            "Iteration:     13,   Func. Count:    168,   Neg. LLF: 26161.595622011315\n",
            "Iteration:     14,   Func. Count:    181,   Neg. LLF: 160.36574618351887\n",
            "Iteration:     15,   Func. Count:    193,   Neg. LLF: 3572.2893312290785\n",
            "Iteration:     16,   Func. Count:    210,   Neg. LLF: 387.00935998260223\n",
            "Iteration:     17,   Func. Count:    228,   Neg. LLF: 1168.76784000322\n",
            "Iteration:     18,   Func. Count:    250,   Neg. LLF: 19400.82462143396\n",
            "Iteration:     19,   Func. Count:    263,   Neg. LLF: 19400.82462143396\n",
            "Iteration:     20,   Func. Count:    276,   Neg. LLF: 6419.880528842005\n",
            "Iteration:     21,   Func. Count:    292,   Neg. LLF: 589.9832006295392\n",
            "Iteration:     22,   Func. Count:    307,   Neg. LLF: 145.0578960594957\n",
            "Optimization terminated successfully    (Exit mode 0)\n",
            "            Current function value: 145.05783350755735\n",
            "            Iterations: 26\n",
            "            Function evaluations: 307\n",
            "            Gradient evaluations: 22\n",
            "Iteration:      1,   Func. Count:      8,   Neg. LLF: 646.345039768754\n",
            "Iteration:      2,   Func. Count:     16,   Neg. LLF: 2618.5639476082865\n",
            "Iteration:      3,   Func. Count:     24,   Neg. LLF: 19404.21989475177\n",
            "Iteration:      4,   Func. Count:     32,   Neg. LLF: 6954.78148644671\n",
            "Iteration:      5,   Func. Count:     40,   Neg. LLF: 232.38354251616676\n",
            "Iteration:      6,   Func. Count:     47,   Neg. LLF: 280.4256107079293\n",
            "Iteration:      7,   Func. Count:     58,   Neg. LLF: 16992.9000600588\n",
            "Iteration:      8,   Func. Count:     66,   Neg. LLF: 153.15155429069085\n",
            "Iteration:      9,   Func. Count:     73,   Neg. LLF: 73379.18898111732\n",
            "Iteration:     10,   Func. Count:     81,   Neg. LLF: 73379.18898111732\n",
            "Iteration:     11,   Func. Count:     89,   Neg. LLF: 19402.378850388646\n",
            "Iteration:     12,   Func. Count:     97,   Neg. LLF: 151.61204658669186\n",
            "Iteration:     13,   Func. Count:    106,   Neg. LLF: 154.71100769076244\n",
            "Iteration:     14,   Func. Count:    114,   Neg. LLF: 147.4908403743477\n",
            "Iteration:     15,   Func. Count:    121,   Neg. LLF: 151.2794527789218\n",
            "Optimization terminated successfully    (Exit mode 0)\n",
            "            Current function value: 147.49083703460775\n",
            "            Iterations: 16\n",
            "            Function evaluations: 129\n",
            "            Gradient evaluations: 15\n",
            "Iteration:      1,   Func. Count:     13,   Neg. LLF: 953.5818598167048\n",
            "Iteration:      2,   Func. Count:     26,   Neg. LLF: 19404.191490168112\n",
            "Iteration:      3,   Func. Count:     39,   Neg. LLF: 18523.20188813207\n",
            "Iteration:      4,   Func. Count:     52,   Neg. LLF: 19404.21989475177\n",
            "Iteration:      5,   Func. Count:     65,   Neg. LLF: 296.9736561393922\n",
            "Iteration:      6,   Func. Count:     77,   Neg. LLF: 19404.215039351104\n",
            "Iteration:      7,   Func. Count:     90,   Neg. LLF: 20751.949592583354\n",
            "Iteration:      8,   Func. Count:    103,   Neg. LLF: 8979.199609437695\n",
            "Iteration:      9,   Func. Count:    116,   Neg. LLF: 463.44775793239984\n",
            "Iteration:     10,   Func. Count:    129,   Neg. LLF: 62719.55063304434\n",
            "Iteration:     11,   Func. Count:    142,   Neg. LLF: 24283.234932649524\n",
            "Iteration:     12,   Func. Count:    155,   Neg. LLF: 26117.812847249777\n",
            "Iteration:     13,   Func. Count:    168,   Neg. LLF: 26865.722492887366\n",
            "Iteration:     14,   Func. Count:    181,   Neg. LLF: 53191.238339371215\n",
            "Iteration:     15,   Func. Count:    194,   Neg. LLF: 24362.85121926196\n",
            "Iteration:     16,   Func. Count:    207,   Neg. LLF: 12000.23686106854\n",
            "Iteration:     17,   Func. Count:    220,   Neg. LLF: 228.05588259659052\n",
            "Iteration:     18,   Func. Count:    233,   Neg. LLF: 28483301.946981233\n",
            "Iteration:     19,   Func. Count:    246,   Neg. LLF: 65137.38712174802\n",
            "Iteration:     20,   Func. Count:    259,   Neg. LLF: 47188.93111071307\n",
            "Iteration:     21,   Func. Count:    272,   Neg. LLF: 40675.487621727225\n",
            "Iteration:     22,   Func. Count:    285,   Neg. LLF: 37092.84414523336\n",
            "Iteration:     23,   Func. Count:    298,   Neg. LLF: 33816.7129490292\n",
            "Iteration:     24,   Func. Count:    311,   Neg. LLF: 335.78569371023303\n",
            "Iteration:     25,   Func. Count:    324,   Neg. LLF: 159.89169496121892\n",
            "Iteration:     26,   Func. Count:    336,   Neg. LLF: 4514.207159584072\n",
            "Iteration:     27,   Func. Count:    352,   Neg. LLF: 159.66789808826277\n",
            "Optimization terminated successfully    (Exit mode 0)\n",
            "            Current function value: 159.66823832219174\n",
            "            Iterations: 31\n",
            "            Function evaluations: 352\n",
            "            Gradient evaluations: 27\n",
            "Iteration:      1,   Func. Count:      8,   Neg. LLF: 579.6520423434113\n",
            "Iteration:      2,   Func. Count:     16,   Neg. LLF: 1830.9405466234416\n",
            "Iteration:      3,   Func. Count:     24,   Neg. LLF: 19407.16619000806\n",
            "Iteration:      4,   Func. Count:     32,   Neg. LLF: 19407.16619000806\n",
            "Iteration:      5,   Func. Count:     40,   Neg. LLF: 331.23190204791746\n",
            "Iteration:      6,   Func. Count:     48,   Neg. LLF: 28663988.899202082\n",
            "Iteration:      7,   Func. Count:     56,   Neg. LLF: 34985.90450061398\n",
            "Iteration:      8,   Func. Count:     64,   Neg. LLF: 32044.008201029694\n",
            "Iteration:      9,   Func. Count:     72,   Neg. LLF: 3691.0183116476114\n",
            "Iteration:     10,   Func. Count:     80,   Neg. LLF: 31547.840628312988\n",
            "Iteration:     11,   Func. Count:     88,   Neg. LLF: 19407.096846624037\n",
            "Iteration:     12,   Func. Count:     96,   Neg. LLF: 28437.5947447414\n",
            "Iteration:     13,   Func. Count:    104,   Neg. LLF: 29359.66646204904\n",
            "Iteration:     14,   Func. Count:    112,   Neg. LLF: 286.2613743480481\n",
            "Iteration:     15,   Func. Count:    120,   Neg. LLF: 27102.574482119788\n",
            "Iteration:     16,   Func. Count:    128,   Neg. LLF: 28664031.358656995\n",
            "Iteration:     17,   Func. Count:    136,   Neg. LLF: 45704.37389459523\n",
            "Iteration:     18,   Func. Count:    144,   Neg. LLF: 61297.48142913403\n",
            "Iteration:     19,   Func. Count:    152,   Neg. LLF: 47764.31725732212\n",
            "Iteration:     20,   Func. Count:    160,   Neg. LLF: 41589.48796148483\n",
            "Iteration:     21,   Func. Count:    168,   Neg. LLF: 37949.93082143732\n",
            "Iteration:     22,   Func. Count:    176,   Neg. LLF: 35161.02508174929\n",
            "Iteration:     23,   Func. Count:    184,   Neg. LLF: 32525.892931137343\n",
            "Iteration:     24,   Func. Count:    192,   Neg. LLF: 170.84220802616733\n",
            "Iteration:     25,   Func. Count:    200,   Neg. LLF: 148.27248447133155\n",
            "Iteration:     26,   Func. Count:    207,   Neg. LLF: 582.5706330419123\n",
            "Iteration:     27,   Func. Count:    224,   Neg. LLF: 150.30420018248037\n",
            "Iteration:     28,   Func. Count:    231,   Neg. LLF: 146.88855466399787\n",
            "Optimization terminated successfully    (Exit mode 0)\n",
            "            Current function value: 146.88838024081122\n",
            "            Iterations: 32\n",
            "            Function evaluations: 231\n",
            "            Gradient evaluations: 28\n",
            "Iteration:      1,   Func. Count:     13,   Neg. LLF: 786.8889727983142\n",
            "Iteration:      2,   Func. Count:     26,   Neg. LLF: 19407.12791157214\n",
            "Iteration:      3,   Func. Count:     39,   Neg. LLF: 19407.16619000806\n",
            "Iteration:      4,   Func. Count:     52,   Neg. LLF: 3721.2206955794572\n",
            "Iteration:      5,   Func. Count:     65,   Neg. LLF: 278.5216031279184\n",
            "Iteration:      6,   Func. Count:     77,   Neg. LLF: 19407.16619021497\n",
            "Iteration:      7,   Func. Count:     90,   Neg. LLF: 28664031.358656995\n",
            "Iteration:      8,   Func. Count:    103,   Neg. LLF: 38713.14487827406\n",
            "Iteration:      9,   Func. Count:    116,   Neg. LLF: 32058.334106322207\n",
            "Iteration:     10,   Func. Count:    129,   Neg. LLF: 25898.451185730555\n",
            "Iteration:     11,   Func. Count:    142,   Neg. LLF: 206.0203550142187\n",
            "Iteration:     12,   Func. Count:    154,   Neg. LLF: 19689.925329129983\n",
            "Iteration:     13,   Func. Count:    167,   Neg. LLF: 27353.476693929624\n",
            "Iteration:     14,   Func. Count:    180,   Neg. LLF: 390.3355341039928\n",
            "Iteration:     15,   Func. Count:    193,   Neg. LLF: 19407.16619021497\n",
            "Iteration:     16,   Func. Count:    206,   Neg. LLF: 28652414.907494284\n",
            "Iteration:     17,   Func. Count:    219,   Neg. LLF: 40045.15938245884\n",
            "Iteration:     18,   Func. Count:    232,   Neg. LLF: 29198.665483288274\n",
            "Iteration:     19,   Func. Count:    245,   Neg. LLF: 29824.93984920359\n",
            "Iteration:     20,   Func. Count:    258,   Neg. LLF: 28378.30655185216\n",
            "Iteration:     21,   Func. Count:    271,   Neg. LLF: 247.16442438801766\n",
            "Iteration:     22,   Func. Count:    284,   Neg. LLF: 157.09780745791576\n",
            "Iteration:     23,   Func. Count:    296,   Neg. LLF: 1121.1518913825826\n",
            "Iteration:     24,   Func. Count:    313,   Neg. LLF: 720.3978301277791\n",
            "Iteration:     25,   Func. Count:    335,   Neg. LLF: 182.53290140080404\n",
            "Iteration:     26,   Func. Count:    353,   Neg. LLF: 7455.290124425637\n",
            "Iteration:     27,   Func. Count:    366,   Neg. LLF: 917215.8669855611\n",
            "Iteration:     28,   Func. Count:    379,   Neg. LLF: 3885.8314437526255\n",
            "Iteration:     29,   Func. Count:    392,   Neg. LLF: 9286.168495035892\n",
            "Iteration:     30,   Func. Count:    405,   Neg. LLF: 150.19066199517567\n",
            "Iteration:     31,   Func. Count:    417,   Neg. LLF: 188.24856126712868\n",
            "Iteration:     32,   Func. Count:    433,   Neg. LLF: 4652.321523926323\n",
            "Iteration:     33,   Func. Count:    446,   Neg. LLF: 152.10322219614753\n",
            "Iteration:     34,   Func. Count:    459,   Neg. LLF: 146.83354629242132\n",
            "Optimization terminated successfully    (Exit mode 0)\n",
            "            Current function value: 146.83363561433578\n",
            "            Iterations: 38\n",
            "            Function evaluations: 459\n",
            "            Gradient evaluations: 34\n"
          ]
        }
      ]
    },
    {
      "cell_type": "code",
      "source": [
        "test['Model 1 predicted']=test['EURO']+residual_1\n",
        "test['Model 2 predicted']=test['EURO']+residual_2"
      ],
      "metadata": {
        "id": "F49prFruQdcw"
      },
      "execution_count": 140,
      "outputs": []
    },
    {
      "cell_type": "code",
      "source": [
        "test"
      ],
      "metadata": {
        "colab": {
          "base_uri": "https://localhost:8080/",
          "height": 394
        },
        "id": "GMrOE_WFMU9I",
        "outputId": "c4c90db7-3569-41cd-8b1a-8565dd0845cc"
      },
      "execution_count": 141,
      "outputs": [
        {
          "output_type": "execute_result",
          "data": {
            "text/plain": [
              "               EURO  Model 1 predicted  Model 2 predicted\n",
              "Date                                                     \n",
              "2023-01-02  88.3753          88.553317          88.521539\n",
              "2023-01-03  88.2508          88.437938          88.384635\n",
              "2023-01-04  87.6546          87.831894          87.791520\n",
              "2023-01-05  87.7992          88.128233          88.262203\n",
              "2023-01-06  86.9235          87.098801          87.115259\n",
              "2023-01-09  87.9528          88.572730          88.644720\n",
              "2023-01-10  88.2829          88.902830          88.974820\n",
              "2023-01-11  87.8551          88.475030          88.547020\n",
              "2023-01-12  87.9566          88.741521          88.620423\n",
              "2023-01-13  88.2628          88.509308          88.489496"
            ],
            "text/html": [
              "\n",
              "  <div id=\"df-8ec8218f-69ac-460d-94be-a4d4b3e20cec\">\n",
              "    <div class=\"colab-df-container\">\n",
              "      <div>\n",
              "<style scoped>\n",
              "    .dataframe tbody tr th:only-of-type {\n",
              "        vertical-align: middle;\n",
              "    }\n",
              "\n",
              "    .dataframe tbody tr th {\n",
              "        vertical-align: top;\n",
              "    }\n",
              "\n",
              "    .dataframe thead th {\n",
              "        text-align: right;\n",
              "    }\n",
              "</style>\n",
              "<table border=\"1\" class=\"dataframe\">\n",
              "  <thead>\n",
              "    <tr style=\"text-align: right;\">\n",
              "      <th></th>\n",
              "      <th>EURO</th>\n",
              "      <th>Model 1 predicted</th>\n",
              "      <th>Model 2 predicted</th>\n",
              "    </tr>\n",
              "    <tr>\n",
              "      <th>Date</th>\n",
              "      <th></th>\n",
              "      <th></th>\n",
              "      <th></th>\n",
              "    </tr>\n",
              "  </thead>\n",
              "  <tbody>\n",
              "    <tr>\n",
              "      <th>2023-01-02</th>\n",
              "      <td>88.3753</td>\n",
              "      <td>88.553317</td>\n",
              "      <td>88.521539</td>\n",
              "    </tr>\n",
              "    <tr>\n",
              "      <th>2023-01-03</th>\n",
              "      <td>88.2508</td>\n",
              "      <td>88.437938</td>\n",
              "      <td>88.384635</td>\n",
              "    </tr>\n",
              "    <tr>\n",
              "      <th>2023-01-04</th>\n",
              "      <td>87.6546</td>\n",
              "      <td>87.831894</td>\n",
              "      <td>87.791520</td>\n",
              "    </tr>\n",
              "    <tr>\n",
              "      <th>2023-01-05</th>\n",
              "      <td>87.7992</td>\n",
              "      <td>88.128233</td>\n",
              "      <td>88.262203</td>\n",
              "    </tr>\n",
              "    <tr>\n",
              "      <th>2023-01-06</th>\n",
              "      <td>86.9235</td>\n",
              "      <td>87.098801</td>\n",
              "      <td>87.115259</td>\n",
              "    </tr>\n",
              "    <tr>\n",
              "      <th>2023-01-09</th>\n",
              "      <td>87.9528</td>\n",
              "      <td>88.572730</td>\n",
              "      <td>88.644720</td>\n",
              "    </tr>\n",
              "    <tr>\n",
              "      <th>2023-01-10</th>\n",
              "      <td>88.2829</td>\n",
              "      <td>88.902830</td>\n",
              "      <td>88.974820</td>\n",
              "    </tr>\n",
              "    <tr>\n",
              "      <th>2023-01-11</th>\n",
              "      <td>87.8551</td>\n",
              "      <td>88.475030</td>\n",
              "      <td>88.547020</td>\n",
              "    </tr>\n",
              "    <tr>\n",
              "      <th>2023-01-12</th>\n",
              "      <td>87.9566</td>\n",
              "      <td>88.741521</td>\n",
              "      <td>88.620423</td>\n",
              "    </tr>\n",
              "    <tr>\n",
              "      <th>2023-01-13</th>\n",
              "      <td>88.2628</td>\n",
              "      <td>88.509308</td>\n",
              "      <td>88.489496</td>\n",
              "    </tr>\n",
              "  </tbody>\n",
              "</table>\n",
              "</div>\n",
              "      <button class=\"colab-df-convert\" onclick=\"convertToInteractive('df-8ec8218f-69ac-460d-94be-a4d4b3e20cec')\"\n",
              "              title=\"Convert this dataframe to an interactive table.\"\n",
              "              style=\"display:none;\">\n",
              "        \n",
              "  <svg xmlns=\"http://www.w3.org/2000/svg\" height=\"24px\"viewBox=\"0 0 24 24\"\n",
              "       width=\"24px\">\n",
              "    <path d=\"M0 0h24v24H0V0z\" fill=\"none\"/>\n",
              "    <path d=\"M18.56 5.44l.94 2.06.94-2.06 2.06-.94-2.06-.94-.94-2.06-.94 2.06-2.06.94zm-11 1L8.5 8.5l.94-2.06 2.06-.94-2.06-.94L8.5 2.5l-.94 2.06-2.06.94zm10 10l.94 2.06.94-2.06 2.06-.94-2.06-.94-.94-2.06-.94 2.06-2.06.94z\"/><path d=\"M17.41 7.96l-1.37-1.37c-.4-.4-.92-.59-1.43-.59-.52 0-1.04.2-1.43.59L10.3 9.45l-7.72 7.72c-.78.78-.78 2.05 0 2.83L4 21.41c.39.39.9.59 1.41.59.51 0 1.02-.2 1.41-.59l7.78-7.78 2.81-2.81c.8-.78.8-2.07 0-2.86zM5.41 20L4 18.59l7.72-7.72 1.47 1.35L5.41 20z\"/>\n",
              "  </svg>\n",
              "      </button>\n",
              "      \n",
              "  <style>\n",
              "    .colab-df-container {\n",
              "      display:flex;\n",
              "      flex-wrap:wrap;\n",
              "      gap: 12px;\n",
              "    }\n",
              "\n",
              "    .colab-df-convert {\n",
              "      background-color: #E8F0FE;\n",
              "      border: none;\n",
              "      border-radius: 50%;\n",
              "      cursor: pointer;\n",
              "      display: none;\n",
              "      fill: #1967D2;\n",
              "      height: 32px;\n",
              "      padding: 0 0 0 0;\n",
              "      width: 32px;\n",
              "    }\n",
              "\n",
              "    .colab-df-convert:hover {\n",
              "      background-color: #E2EBFA;\n",
              "      box-shadow: 0px 1px 2px rgba(60, 64, 67, 0.3), 0px 1px 3px 1px rgba(60, 64, 67, 0.15);\n",
              "      fill: #174EA6;\n",
              "    }\n",
              "\n",
              "    [theme=dark] .colab-df-convert {\n",
              "      background-color: #3B4455;\n",
              "      fill: #D2E3FC;\n",
              "    }\n",
              "\n",
              "    [theme=dark] .colab-df-convert:hover {\n",
              "      background-color: #434B5C;\n",
              "      box-shadow: 0px 1px 3px 1px rgba(0, 0, 0, 0.15);\n",
              "      filter: drop-shadow(0px 1px 2px rgba(0, 0, 0, 0.3));\n",
              "      fill: #FFFFFF;\n",
              "    }\n",
              "  </style>\n",
              "\n",
              "      <script>\n",
              "        const buttonEl =\n",
              "          document.querySelector('#df-8ec8218f-69ac-460d-94be-a4d4b3e20cec button.colab-df-convert');\n",
              "        buttonEl.style.display =\n",
              "          google.colab.kernel.accessAllowed ? 'block' : 'none';\n",
              "\n",
              "        async function convertToInteractive(key) {\n",
              "          const element = document.querySelector('#df-8ec8218f-69ac-460d-94be-a4d4b3e20cec');\n",
              "          const dataTable =\n",
              "            await google.colab.kernel.invokeFunction('convertToInteractive',\n",
              "                                                     [key], {});\n",
              "          if (!dataTable) return;\n",
              "\n",
              "          const docLinkHtml = 'Like what you see? Visit the ' +\n",
              "            '<a target=\"_blank\" href=https://colab.research.google.com/notebooks/data_table.ipynb>data table notebook</a>'\n",
              "            + ' to learn more about interactive tables.';\n",
              "          element.innerHTML = '';\n",
              "          dataTable['output_type'] = 'display_data';\n",
              "          await google.colab.output.renderOutput(dataTable, element);\n",
              "          const docLink = document.createElement('div');\n",
              "          docLink.innerHTML = docLinkHtml;\n",
              "          element.appendChild(docLink);\n",
              "        }\n",
              "      </script>\n",
              "    </div>\n",
              "  </div>\n",
              "  "
            ]
          },
          "metadata": {},
          "execution_count": 141
        }
      ]
    },
    {
      "cell_type": "code",
      "source": [
        "from sklearn.metrics import mean_absolute_percentage_error\n",
        "mean_absolute_percentage_error(test['EURO'],test['Model 1 predicted']) #MSPE for ARCH Model 1"
      ],
      "metadata": {
        "colab": {
          "base_uri": "https://localhost:8080/"
        },
        "id": "c1HEB_yZRvqJ",
        "outputId": "d18b37ef-4382-43f7-f111-c11b890514b1"
      },
      "execution_count": 143,
      "outputs": [
        {
          "output_type": "execute_result",
          "data": {
            "text/plain": [
              "0.004476541832959443"
            ]
          },
          "metadata": {},
          "execution_count": 143
        }
      ]
    },
    {
      "cell_type": "code",
      "source": [
        "mean_absolute_percentage_error(test['EURO'],test['Model 2 predicted']) #MSPE for ARCH Model 2"
      ],
      "metadata": {
        "id": "MBf02dh5SWPK",
        "colab": {
          "base_uri": "https://localhost:8080/"
        },
        "outputId": "ffd89ff1-432d-4d6f-f944-e03fc1774baf"
      },
      "execution_count": 144,
      "outputs": [
        {
          "output_type": "execute_result",
          "data": {
            "text/plain": [
              "0.004590856538003515"
            ]
          },
          "metadata": {},
          "execution_count": 144
        }
      ]
    },
    {
      "cell_type": "code",
      "source": [
        "!pip install dieboldmariano"
      ],
      "metadata": {
        "colab": {
          "base_uri": "https://localhost:8080/"
        },
        "id": "MhySrvScTFEi",
        "outputId": "41bf92de-f805-4fe7-8ddb-848c0a7097ed"
      },
      "execution_count": 145,
      "outputs": [
        {
          "output_type": "stream",
          "name": "stdout",
          "text": [
            "Looking in indexes: https://pypi.org/simple, https://us-python.pkg.dev/colab-wheels/public/simple/\n",
            "Collecting dieboldmariano\n",
            "  Downloading dieboldmariano-1.0.0-py3-none-any.whl (5.2 kB)\n",
            "Installing collected packages: dieboldmariano\n",
            "Successfully installed dieboldmariano-1.0.0\n"
          ]
        }
      ]
    },
    {
      "cell_type": "markdown",
      "source": [
        "## Debol Mariano Test"
      ],
      "metadata": {
        "id": "qWKsmEeRTHsz"
      }
    },
    {
      "cell_type": "code",
      "source": [
        "from dieboldmariano import dm_test"
      ],
      "metadata": {
        "id": "lNBG9pjsTLdS"
      },
      "execution_count": 146,
      "outputs": []
    },
    {
      "cell_type": "code",
      "source": [
        "dm_test(test[\"EURO\"], test['Model 1 predicted'], test['Model 2 predicted'], one_sided=True)"
      ],
      "metadata": {
        "colab": {
          "base_uri": "https://localhost:8080/"
        },
        "id": "aHrl57OfTTRz",
        "outputId": "7845e35e-8764-444a-8a0c-df15a0771ef6"
      },
      "execution_count": 148,
      "outputs": [
        {
          "output_type": "execute_result",
          "data": {
            "text/plain": [
              "(-0.6271153276408591, 0.27308072449981224)"
            ]
          },
          "metadata": {},
          "execution_count": 148
        }
      ]
    },
    {
      "cell_type": "code",
      "source": [
        "import matplotlib.pyplot as plt\n",
        "plt.plot(test['EURO'],label=\"Actual Time Series\")\n",
        "plt.plot(test['Model 1 predicted'], color='red',label=\"ARCH model 1\")\n",
        "plt.legend()"
      ],
      "metadata": {
        "colab": {
          "base_uri": "https://localhost:8080/",
          "height": 453
        },
        "id": "vgthH2OBTcSP",
        "outputId": "cc89c470-ff78-4131-a3ac-8bc78ff21245"
      },
      "execution_count": 150,
      "outputs": [
        {
          "output_type": "execute_result",
          "data": {
            "text/plain": [
              "<matplotlib.legend.Legend at 0x7fbd020d4d30>"
            ]
          },
          "metadata": {},
          "execution_count": 150
        },
        {
          "output_type": "display_data",
          "data": {
            "text/plain": [
              "<Figure size 640x480 with 1 Axes>"
            ],
            "image/png": "[encoded data removed]"
          },
          "metadata": {}
        }
      ]
    },
    {
      "cell_type": "code",
      "source": [],
      "metadata": {
        "id": "9EMQOOi2mR43"
      },
      "execution_count": null,
      "outputs": []
    }
  ]
}